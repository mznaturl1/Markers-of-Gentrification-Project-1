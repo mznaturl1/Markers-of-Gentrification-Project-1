{
 "cells": [
  {
   "cell_type": "code",
   "execution_count": 1,
   "id": "f81c528b",
   "metadata": {},
   "outputs": [],
   "source": [
    "# Import Dependencies\n",
    "import pandas as pd\n",
    "from census import Census\n",
    "from config import census_key\n",
    "import cpi # this will be used to determine the cost of everything in today's dollars. cpi.inflate(amount,year of amount)\n",
    "#install cpi with pip install cpi on command line\n",
    "cpi.update()\n",
    "low_memory=False"
   ]
  },
  {
   "cell_type": "code",
   "execution_count": 2,
   "id": "01c6c3bb",
   "metadata": {},
   "outputs": [],
   "source": [
    "# Import CSVs \n",
    "filepath = \"Resources/\"\n",
    "kent_zipcodes = pd.read_csv(filepath+\"kent_zipcodes.csv\",squeeze=True,header=None)\n",
    "oakland_zipcodes = pd.read_csv(filepath+\"oakland_zipcodes.csv\",squeeze=True,header=None)\n",
    "saginaw_zipcodes = pd.read_csv(filepath+\"saginaw_zipcodes.csv\",squeeze=True,header=None)\n",
    "\n"
   ]
  },
  {
   "cell_type": "code",
   "execution_count": 3,
   "id": "a7d2a73b",
   "metadata": {},
   "outputs": [],
   "source": [
    "# Create dataframe for each imported CSV and add a column with the corresponding county\n",
    "kent_zipcodes = pd.DataFrame(kent_zipcodes)\n",
    "kent_zipcodes[\"County\"] = \"Kent\"\n",
    "oakland_zipcodes = pd.DataFrame(oakland_zipcodes)\n",
    "oakland_zipcodes[\"County\"] = \"Oakland\"\n",
    "saginaw_zipcodes = pd.DataFrame(saginaw_zipcodes)\n",
    "saginaw_zipcodes[\"County\"] = \"Saginaw\"\n",
    "# Merge zipcode dataframes and add a column name for Zipcode\n",
    "query_zipcodes =pd.DataFrame( pd.merge(kent_zipcodes,oakland_zipcodes,how=\"outer\"))\n",
    "query_zipcodes = pd.DataFrame(pd.merge(query_zipcodes,saginaw_zipcodes,how=\"outer\"))\n",
    "query_zipcodes.columns = [\"Zipcode\",\"County\"]\n",
    "query_zipcodes = query_zipcodes.astype({\"Zipcode\":object})"
   ]
  },
  {
   "cell_type": "code",
   "execution_count": 4,
   "id": "3769d841",
   "metadata": {},
   "outputs": [
    {
     "name": "stdout",
     "output_type": "stream",
     "text": [
      "<class 'pandas.core.frame.DataFrame'>\n",
      "Int64Index: 172 entries, 0 to 171\n",
      "Data columns (total 2 columns):\n",
      " #   Column   Non-Null Count  Dtype \n",
      "---  ------   --------------  ----- \n",
      " 0   Zipcode  172 non-null    object\n",
      " 1   County   172 non-null    object\n",
      "dtypes: object(2)\n",
      "memory usage: 4.0+ KB\n"
     ]
    }
   ],
   "source": [
    "query_zipcodes.info()"
   ]
  },
  {
   "cell_type": "code",
   "execution_count": 5,
   "id": "1a429a4b",
   "metadata": {},
   "outputs": [],
   "source": [
    "# Create dataframe to add census data to. Needed to put in starter values for it to function properly later. Will remove further down.\n",
    "census_df = pd.DataFrame({\"Year\":[0],\n",
    "                          \"Zipcode\":[\"0\"],\n",
    "                          \"Total Population\":[0],\n",
    "                          \"White Population\":[0],\n",
    "                          \"Black Population\":[0],\n",
    "                          \"Employed Count\":[0],\n",
    "                          \"Unemployed Count\":[0],\n",
    "                          \"Poverty Count\":[0],\n",
    "                          \"Poverty Count - White\":[0],\n",
    "                          \"Poverty Count - Black\":[0],\n",
    "                          \"Median Income\":[0],\n",
    "                          \"Median Rent\":[0],\n",
    "                          \"Median Home Value\":[0]})\n",
    "\n",
    "# Get data from API for Census\n",
    "census_df = census_df.astype({\"Year\":int,\"Zipcode\":object})\n",
    "\n",
    "# For loop to iterate through the desired 10-year period\n",
    "for year in [2011,2012,2013,2014,2015,2016,2017,2018,2019,2020]: \n",
    "#     for index, row in query_zipcodes.iterrows():\n",
    "#         zip = query_zipcodes.iloc[index,0]\n",
    "    c = Census(census_key,year) \n",
    "    census_data = c.acs5.get((\"NAME\", \"B19013_001E\", \"B23025_004E\", \"B23025_005E\", \"B17001_002E\", \n",
    "            \"B17001A_002E\",\"B17001B_002E\", \"B01003_001E\",\n",
    "            \"B02001_002E\", \"B02001_003E\",\"B25058_001E\", \"B25077_001E\"\n",
    "             ), {\"for\": \"zip code tabulation area:*\"})\n",
    "    census_raw_df = pd.DataFrame(census_data)\n",
    "    \n",
    "# Add the year to the year column so each iteration can be distinguished\n",
    "    year_count = len(census_data)\n",
    "    year_series = pd.Series([year for x in range(year_count)])    \n",
    "    census_raw_df[\"Year\"] = year_series\n",
    "    \n",
    "# Rename Columns\n",
    "    census_raw_df = census_raw_df.rename(columns = {\n",
    "            \"B19013_001E\" : \"Median Income\", \n",
    "            \"B23025_004E\" : \"Employed Count\", \n",
    "            \"B23025_005E\" : \"Unemployed Count\", \n",
    "            \"B17001_002E\" : \"Poverty Count\", \n",
    "            \"B17001A_002E\" : \"Poverty Count - White\" , \n",
    "            \"B17001B_002E\" : \"Poverty Count - Black\" , \n",
    "            \"B01003_001E\" : \"Total Population\", \n",
    "            \"B02001_002E\" : \"White Population\", \n",
    "            \"B02001_003E\" : \"Black Population\", \n",
    "            \"B25058_001E\" : \"Median Rent\", \n",
    "            \"B25077_001E\" : \"Median Home Value\", \n",
    "            \"NAME\" : \"Name\",\n",
    "            \"zip code tabulation area\": \"Zipcode\"})\n",
    "    \n",
    "# Recast all variables in the output dataframe to the correct type \n",
    "    census_raw_df = census_raw_df.astype({\"Year\":int,\"Zipcode\":object,\"Median Income\":float,\"Employed Count\":float,\"Unemployed Count\":float,\"Poverty Count\":float,\n",
    "             \"Poverty Count - White\":float, \"Poverty Count - Black\":float, \"Total Population\":float,\n",
    "             \"White Population\":float,\"Black Population\":float, \"Median Rent\":float,\"Median Home Value\":float})\n",
    "    \n",
    "# Recast the Zipcode in census_df to object. Was running into issues with the zipcode repeatedly trying to cast as a float.\n",
    "    census_df = census_df.astype({\"Zipcode\":object})\n",
    "    \n",
    "# Merge the new raw df into the finished df. Use outer to maintain all values\n",
    "    census_df = pd.merge(census_df,census_raw_df,how=\"outer\")"
   ]
  },
  {
   "cell_type": "code",
   "execution_count": 7,
   "id": "30aea2b1",
   "metadata": {},
   "outputs": [
    {
     "data": {
      "text/html": [
       "<div>\n",
       "<style scoped>\n",
       "    .dataframe tbody tr th:only-of-type {\n",
       "        vertical-align: middle;\n",
       "    }\n",
       "\n",
       "    .dataframe tbody tr th {\n",
       "        vertical-align: top;\n",
       "    }\n",
       "\n",
       "    .dataframe thead th {\n",
       "        text-align: right;\n",
       "    }\n",
       "</style>\n",
       "<table border=\"1\" class=\"dataframe\">\n",
       "  <thead>\n",
       "    <tr style=\"text-align: right;\">\n",
       "      <th></th>\n",
       "      <th>Year</th>\n",
       "      <th>Zipcode</th>\n",
       "      <th>Total Population</th>\n",
       "      <th>White Population</th>\n",
       "      <th>Black Population</th>\n",
       "      <th>Employed Count</th>\n",
       "      <th>Unemployed Count</th>\n",
       "      <th>Poverty Count</th>\n",
       "      <th>Poverty Count - White</th>\n",
       "      <th>Poverty Count - Black</th>\n",
       "      <th>Median Income</th>\n",
       "      <th>Median Rent</th>\n",
       "      <th>Median Home Value</th>\n",
       "      <th>Name</th>\n",
       "      <th>state</th>\n",
       "      <th>County</th>\n",
       "    </tr>\n",
       "  </thead>\n",
       "  <tbody>\n",
       "  </tbody>\n",
       "</table>\n",
       "</div>"
      ],
      "text/plain": [
       "Empty DataFrame\n",
       "Columns: [Year, Zipcode, Total Population, White Population, Black Population, Employed Count, Unemployed Count, Poverty Count, Poverty Count - White, Poverty Count - Black, Median Income, Median Rent, Median Home Value, Name, state, County]\n",
       "Index: []"
      ]
     },
     "execution_count": 7,
     "metadata": {},
     "output_type": "execute_result"
    }
   ],
   "source": [
    "census_df = census_df.sort_values(by=[\"Zipcode\"])\n",
    "test_df = pd.merge(census_df,query_zipcodes,how=\"inner\", on=\"Zipcode\")\n",
    "test_df = test_df.sort_values(\"Total Population\")\n",
    "test_df"
   ]
  },
  {
   "cell_type": "code",
   "execution_count": null,
   "id": "2039e322",
   "metadata": {},
   "outputs": [],
   "source": [
    "# Remove the name column, which is useless here, and the state column, which only functioned for some years\n",
    "census_df = census_df.drop(columns = [\"Name\",\"state\"])\n",
    "\n",
    "#Remove the sample data added to initialize the dataframe\n",
    "census_df = census_df.loc[census_df[\"Year\"] != 0]"
   ]
  },
  {
   "cell_type": "code",
   "execution_count": 10,
   "id": "4cc3ac58",
   "metadata": {},
   "outputs": [
    {
     "data": {
      "text/html": [
       "<div>\n",
       "<style scoped>\n",
       "    .dataframe tbody tr th:only-of-type {\n",
       "        vertical-align: middle;\n",
       "    }\n",
       "\n",
       "    .dataframe tbody tr th {\n",
       "        vertical-align: top;\n",
       "    }\n",
       "\n",
       "    .dataframe thead th {\n",
       "        text-align: right;\n",
       "    }\n",
       "</style>\n",
       "<table border=\"1\" class=\"dataframe\">\n",
       "  <thead>\n",
       "    <tr style=\"text-align: right;\">\n",
       "      <th></th>\n",
       "      <th>Zipcode</th>\n",
       "      <th>County</th>\n",
       "    </tr>\n",
       "  </thead>\n",
       "  <tbody>\n",
       "    <tr>\n",
       "      <th>64</th>\n",
       "      <td>48340</td>\n",
       "      <td>Oakland</td>\n",
       "    </tr>\n",
       "  </tbody>\n",
       "</table>\n",
       "</div>"
      ],
      "text/plain": [
       "   Zipcode   County\n",
       "64   48340  Oakland"
      ]
     },
     "execution_count": 10,
     "metadata": {},
     "output_type": "execute_result"
    }
   ],
   "source": [
    "test = census_df.loc[census_df[\"Zipcode\"] == \"48340\"]\n",
    "test2 = query_zipcodes.loc[query_zipcodes[\"Zipcode\"]== 48340]\n",
    "test2"
   ]
  },
  {
   "cell_type": "code",
   "execution_count": 8,
   "id": "617a9f09",
   "metadata": {},
   "outputs": [
    {
     "name": "stdout",
     "output_type": "stream",
     "text": [
      "<class 'pandas.core.frame.DataFrame'>\n",
      "Int64Index: 331201 entries, 0 to 264925\n",
      "Data columns (total 15 columns):\n",
      " #   Column                 Non-Null Count   Dtype  \n",
      "---  ------                 --------------   -----  \n",
      " 0   Year                   331201 non-null  int64  \n",
      " 1   Zipcode                331201 non-null  object \n",
      " 2   Total Population       331201 non-null  int64  \n",
      " 3   White Population       331201 non-null  int64  \n",
      " 4   Black Population       331201 non-null  int64  \n",
      " 5   Employed Count         331166 non-null  float64\n",
      " 6   Unemployed Count       331166 non-null  float64\n",
      " 7   Poverty Count          331166 non-null  float64\n",
      " 8   Poverty Count - White  331166 non-null  float64\n",
      " 9   Poverty Count - Black  331166 non-null  float64\n",
      " 10  Median Income          330203 non-null  float64\n",
      " 11  Median Rent            330574 non-null  float64\n",
      " 12  Median Home Value      330370 non-null  float64\n",
      " 13  Name                   331200 non-null  object \n",
      " 14  state                  298080 non-null  object \n",
      "dtypes: float64(8), int64(4), object(3)\n",
      "memory usage: 40.4+ MB\n"
     ]
    }
   ],
   "source": [
    "census_df.info()"
   ]
  },
  {
   "cell_type": "code",
   "execution_count": 9,
   "id": "ac37843e",
   "metadata": {},
   "outputs": [
    {
     "name": "stdout",
     "output_type": "stream",
     "text": [
      "<class 'pandas.core.frame.DataFrame'>\n",
      "Int64Index: 172 entries, 0 to 171\n",
      "Data columns (total 2 columns):\n",
      " #   Column   Non-Null Count  Dtype \n",
      "---  ------   --------------  ----- \n",
      " 0   Zipcode  172 non-null    object\n",
      " 1   County   172 non-null    object\n",
      "dtypes: object(2)\n",
      "memory usage: 4.0+ KB\n"
     ]
    }
   ],
   "source": [
    "query_zipcodes.info()"
   ]
  },
  {
   "cell_type": "code",
   "execution_count": null,
   "id": "dcdc9fba",
   "metadata": {},
   "outputs": [],
   "source": []
  }
 ],
 "metadata": {
  "kernelspec": {
   "display_name": "PythonData2",
   "language": "python",
   "name": "pythondata2"
  },
  "language_info": {
   "codemirror_mode": {
    "name": "ipython",
    "version": 3
   },
   "file_extension": ".py",
   "mimetype": "text/x-python",
   "name": "python",
   "nbconvert_exporter": "python",
   "pygments_lexer": "ipython3",
   "version": "3.7.7"
  }
 },
 "nbformat": 4,
 "nbformat_minor": 5
}
