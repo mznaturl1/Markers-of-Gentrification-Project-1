{
 "cells": [
  {
   "cell_type": "code",
   "execution_count": null,
   "id": "49e4af3e",
   "metadata": {},
   "outputs": [],
   "source": [
    "# Import Dependencies\n",
    "import pandas as pd\n",
    "from config import realtor_key\n",
    "from config import census_key"
   ]
  },
  {
   "cell_type": "code",
   "execution_count": null,
   "id": "bfe8540e",
   "metadata": {},
   "outputs": [],
   "source": [
    "# Import CSV of Zip Codes\n",
    "filepath = \"Resources/\"\n",
    "kent_zipcodes = (pd.read_csv(filepath+\"kent_zipcodes.csv\",squeeze=True,header=None))\n",
    "oakland_zipcodes = (pd.read_csv(filepath+\"oakland_zipcodes.csv\",squeeze=True,header=None))\n",
    "saginaw_zipcodes = (pd.read_csv(filepath+\"saginaw_zipcodes.csv\",squeeze=True,header=None))"
   ]
  },
  {
   "cell_type": "code",
   "execution_count": null,
   "id": "1f8ca041",
   "metadata": {},
   "outputs": [],
   "source": []
  },
  {
   "cell_type": "code",
   "execution_count": null,
   "id": "8d401470",
   "metadata": {},
   "outputs": [],
   "source": []
  }
 ],
 "metadata": {
  "kernelspec": {
   "display_name": "PythonData2",
   "language": "python",
   "name": "pythondata2"
  },
  "language_info": {
   "codemirror_mode": {
    "name": "ipython",
    "version": 3
   },
   "file_extension": ".py",
   "mimetype": "text/x-python",
   "name": "python",
   "nbconvert_exporter": "python",
   "pygments_lexer": "ipython3",
   "version": "3.7.7"
  }
 },
 "nbformat": 4,
 "nbformat_minor": 5
}
