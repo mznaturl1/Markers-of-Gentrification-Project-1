{
 "cells": [
  {
   "cell_type": "code",
   "execution_count": null,
   "id": "f3a498da",
   "metadata": {},
   "outputs": [],
   "source": [
    "# Import Dependencies\n",
    "import pandas as pd\n",
    "from census import Census\n",
    "from config import census_key\n",
    "import cpi # this will be used to determine the cost of everything in today's dollars. cpi.inflate(amount,year of amount)\n",
    "#install cpi with pip install cpi on command line\n",
    "cpi.update()\n",
    "low_memory=False"
   ]
  },
  {
   "cell_type": "code",
   "execution_count": null,
   "id": "8fd171e1",
   "metadata": {},
   "outputs": [],
   "source": [
    "# Import CSVs \n",
    "filepath = \"Resources/\"\n",
    "kent_zipcodes = pd.read_csv(filepath+\"kent_zipcodes.csv\",squeeze=True,header=None)\n",
    "oakland_zipcodes = pd.read_csv(filepath+\"oakland_zipcodes.csv\",squeeze=True,header=None)\n",
    "saginaw_zipcodes = pd.read_csv(filepath+\"saginaw_zipcodes.csv\",squeeze=True,header=None)\n",
    "\n"
   ]
  },
  {
   "cell_type": "code",
   "execution_count": null,
   "id": "144c8ced",
   "metadata": {},
   "outputs": [],
   "source": [
    "# Create dataframe for each imported CSV and add a column with the corresponding county\n",
    "kent_zipcodes = pd.DataFrame(kent_zipcodes)\n",
    "kent_zipcodes[\"County\"] = \"Kent\"\n",
    "oakland_zipcodes = pd.DataFrame(oakland_zipcodes)\n",
    "oakland_zipcodes[\"County\"] = \"Oakland\"\n",
    "saginaw_zipcodes = pd.DataFrame(saginaw_zipcodes)\n",
    "saginaw_zipcodes[\"County\"] = \"Saginaw\"\n",
    "# Merge zipcode dataframes and add a column name for Zipcode\n",
    "query_zipcodes =pd.DataFrame( pd.merge(kent_zipcodes,oakland_zipcodes,how=\"outer\"))\n",
    "query_zipcodes = pd.DataFrame(pd.merge(query_zipcodes,saginaw_zipcodes,how=\"outer\"))\n",
    "query_zipcodes.columns = [\"Zipcode\",\"County\"]\n",
    "query_zipcodes = query_zipcodes.astype({\"Zipcode\":object})"
   ]
  },
  {
   "cell_type": "code",
   "execution_count": null,
   "id": "96d69479",
   "metadata": {},
   "outputs": [],
   "source": [
    "query_zipcodes.info()"
   ]
  },
  {
   "cell_type": "code",
   "execution_count": null,
   "id": "2ddd5948",
   "metadata": {},
   "outputs": [],
   "source": [
    "# Create dataframe to add census data to. Needed to put in starter values for it to function properly later. Will remove further down.\n",
    "census_df = pd.DataFrame({\"Year\":[0],\n",
    "                          \"Zipcode\":[\"0\"],\n",
    "                          \"Total Population\":[0],\n",
    "                          \"White Population\":[0],\n",
    "                          \"Black Population\":[0],\n",
    "                          \"Employed Count\":[0],\n",
    "                          \"Unemployed Count\":[0],\n",
    "                          \"Poverty Count\":[0],\n",
    "                          \"Poverty Count - White\":[0],\n",
    "                          \"Poverty Count - Black\":[0],\n",
    "                          \"Median Income\":[0],\n",
    "                          \"Median Rent\":[0],\n",
    "                          \"Median Home Value\":[0]})\n",
    "\n",
    "# Get data from API for Census\n",
    "census_df = census_df.astype({\"Year\":int,\"Zipcode\":object})\n",
    "\n",
    "# For loop to iterate through the desired 10-year period\n",
    "for year in [2011,2012,2013,2014,2015,2016,2017,2018,2019,2020]: \n",
    "\n",
    "    c = Census(census_key,year) \n",
    "    census_data = c.acs5.get((\"NAME\", \"B19013_001E\", \"B23025_004E\", \"B23025_005E\", \"B17001_002E\", \n",
    "            \"B17001A_002E\",\"B17001B_002E\", \"B01003_001E\",\n",
    "            \"B02001_002E\", \"B02001_003E\",\"B25058_001E\", \"B25077_001E\"\n",
    "             ), {\"for\": \"zip code tabulation area:*\"})\n",
    "    census_raw_df = pd.DataFrame(census_data)\n",
    "    \n",
    "# Add the year to the year column so each iteration can be distinguished\n",
    "    year_count = len(census_data)\n",
    "    year_series = pd.Series([year for x in range(year_count)])    \n",
    "    census_raw_df[\"Year\"] = year_series\n",
    "    \n",
    "# Rename Columns\n",
    "    census_raw_df = census_raw_df.rename(columns = {\n",
    "            \"B19013_001E\" : \"Median Income\", \n",
    "            \"B23025_004E\" : \"Employed Count\", \n",
    "            \"B23025_005E\" : \"Unemployed Count\", \n",
    "            \"B17001_002E\" : \"Poverty Count\", \n",
    "            \"B17001A_002E\" : \"Poverty Count - White\" , \n",
    "            \"B17001B_002E\" : \"Poverty Count - Black\" , \n",
    "            \"B01003_001E\" : \"Total Population\", \n",
    "            \"B02001_002E\" : \"White Population\", \n",
    "            \"B02001_003E\" : \"Black Population\", \n",
    "            \"B25058_001E\" : \"Median Rent\", \n",
    "            \"B25077_001E\" : \"Median Home Value\", \n",
    "            \"NAME\" : \"Name\",\n",
    "            \"zip code tabulation area\": \"Zipcode\"})\n",
    "    \n",
    "# Recast all variables in the output dataframe to the correct type \n",
    "    census_raw_df = census_raw_df.astype({\"Year\":int,\"Zipcode\":object,\"Median Income\":float,\"Employed Count\":float,\"Unemployed Count\":float,\"Poverty Count\":float,\n",
    "             \"Poverty Count - White\":float, \"Poverty Count - Black\":float, \"Total Population\":float,\n",
    "             \"White Population\":float,\"Black Population\":float, \"Median Rent\":float,\"Median Home Value\":float})\n",
    "    \n",
    "# Recast the Zipcode in census_df to object. Was running into issues with the zipcode repeatedly trying to cast as a float.\n",
    "    census_df = census_df.astype({\"Zipcode\":object})\n",
    "    \n",
    "# Merge the new raw df into the finished df. Use outer to maintain all values\n",
    "    census_df = pd.merge(census_df,census_raw_df,how=\"outer\")"
   ]
  },
  {
   "cell_type": "code",
   "execution_count": null,
   "id": "df122a46",
   "metadata": {},
   "outputs": [],
   "source": [
    "for i in query_zipcodes.index:\n",
    "    query_zipcodes.at[i,\"Zipcode\"] = str(query_zipcodes.loc[i,\"Zipcode\"])\n",
    "query_zipcodes"
   ]
  },
  {
   "cell_type": "code",
   "execution_count": null,
   "id": "cdbe4804",
   "metadata": {},
   "outputs": [],
   "source": [
    "# Merge Dataframes so only those zipcodes we want are there. Also adds County \n",
    "census_df = pd.merge(census_df,query_zipcodes,how=\"inner\", on=\"Zipcode\")"
   ]
  },
  {
   "cell_type": "code",
   "execution_count": null,
   "id": "f0928a74",
   "metadata": {},
   "outputs": [],
   "source": [
    "# Remove the name column, which is useless here, and the state column, which only functioned for some years\n",
    "census_df = census_df.drop(columns = [\"Name\",\"state\"])\n",
    "\n",
    "#Remove the sample data added to initialize the dataframe\n",
    "census_df = census_df.loc[census_df[\"Year\"] != 0]"
   ]
  },
  {
   "cell_type": "code",
   "execution_count": null,
   "id": "0d184e1c",
   "metadata": {},
   "outputs": [],
   "source": [
    "census_df.sort_values(\"Median Income\")"
   ]
  },
  {
   "cell_type": "code",
   "execution_count": null,
   "id": "f994c1dc",
   "metadata": {},
   "outputs": [],
   "source": [
    "census_df = census_df.loc[(census_df[\"Zipcode\"]!= \"48724\") & (census_df[\"Zipcode\"]!= \"48370\") & (census_df[\"Zipcode\"]!= \"48380\")]"
   ]
  },
  {
   "cell_type": "code",
   "execution_count": null,
   "id": "74ebc2f8",
   "metadata": {},
   "outputs": [],
   "source": [
    "census_df.sort_values(\"Median Rent\").head(20)"
   ]
  },
  {
   "cell_type": "code",
   "execution_count": null,
   "id": "3f54dcb5",
   "metadata": {},
   "outputs": [],
   "source": [
    "# Adjust financial columns to account for inflation. All values go to current-day inflation (2023)\n",
    "for i in census_df.index:\n",
    "    census_df.at[i,\"Adjusted Median Income\"] = cpi.inflate((census_df.at[i,\"Median Income\"]),(census_df.at[i,\"Year\"]))\n",
    "    census_df.at[i,\"Adjusted Median Rent\"] = cpi.inflate((census_df.at[i,\"Median Rent\"]),(census_df.at[i,\"Year\"]))\n",
    "    census_df.at[i,\"Adjusted Median Home Value\"] = cpi.inflate((census_df.at[i,\"Median Home Value\"]),(census_df.at[i,\"Year\"]))\n"
   ]
  },
  {
   "cell_type": "code",
   "execution_count": null,
   "id": "0031665a",
   "metadata": {},
   "outputs": [],
   "source": [
    "census_df.to_csv(\"output_data/census.csv\",index_label=\"datapoint\")"
   ]
  },
  {
   "cell_type": "code",
   "execution_count": null,
   "id": "bcbb4ec8",
   "metadata": {},
   "outputs": [],
   "source": []
  }
 ],
 "metadata": {
  "kernelspec": {
   "display_name": "PythonData2",
   "language": "python",
   "name": "pythondata2"
  },
  "language_info": {
   "codemirror_mode": {
    "name": "ipython",
    "version": 3
   },
   "file_extension": ".py",
   "mimetype": "text/x-python",
   "name": "python",
   "nbconvert_exporter": "python",
   "pygments_lexer": "ipython3",
   "version": "3.7.7"
  }
 },
 "nbformat": 4,
 "nbformat_minor": 5
}
