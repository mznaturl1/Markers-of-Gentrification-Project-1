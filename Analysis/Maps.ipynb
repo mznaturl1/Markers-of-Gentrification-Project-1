{
 "cells": [
  {
   "cell_type": "markdown",
   "id": "5151c473",
   "metadata": {},
   "source": [
    "# Maps"
   ]
  },
  {
   "cell_type": "code",
   "execution_count": null,
   "id": "88ca05dc",
   "metadata": {},
   "outputs": [],
   "source": [
    "# Import dependencies\n",
    "import requests\n",
    "import json\n",
    "import pandas as pd\n",
    "import hvplot.pandas\n",
    "import cartopy\n",
    "import geoviews as gv\n",
    "from config import geoapify_key \n"
   ]
  },
  {
   "cell_type": "code",
   "execution_count": null,
   "id": "1ba6c16d",
   "metadata": {},
   "outputs": [],
   "source": []
  },
  {
   "cell_type": "code",
   "execution_count": null,
   "id": "85fb5bd9",
   "metadata": {},
   "outputs": [],
   "source": [
    "# Import Data and move index back\n",
    "oakland_data = pd.read_csv(\"output_data/oakland_data.csv\",index_col=\"datapoint\")\n",
    "kent_data    = pd.read_csv(\"output_data/kent_data.csv\"   ,index_col=\"datapoint\")\n",
    "saginaw_data = pd.read_csv(\"output_data/saginaw_data.csv\",index_col=\"datapoint\")\n",
    "\n",
    "oakland_data[\"Lat\"] = 0.1\n",
    "oakland_data[\"Lon\"] = 0.1\n",
    "saginaw_data[\"Lat\"] = 0.1\n",
    "saginaw_data[\"Lon\"] = 0.1\n",
    "kent_data[\"Lat\"] = 0.1\n",
    "kent_data[\"Lon\"] = 0.1"
   ]
  },
  {
   "cell_type": "code",
   "execution_count": null,
   "id": "5625a92a",
   "metadata": {},
   "outputs": [],
   "source": [
    "# Set up function for gathering coordinates for zipcodes\n",
    "start_url = \"https://api.geoapify.com/v1/geocode/search?text=\"\n",
    "end_url =  \"&lang=en&limit=1&type=postcode&filter=countrycode:us&apiKey=\"+geoapify_key\n",
    "def get_coords(df):\n",
    "    lons = [0]\n",
    "    lats = [0]\n",
    "    zips = [0]\n",
    "    for zipcode in df[\"Zipcode\"].unique():\n",
    "        response = requests.get(start_url+str(zipcode)+end_url).json()\n",
    "        lon = response[\"features\"][0][\"properties\"][\"lon\"]\n",
    "        lat = response[\"features\"][0][\"properties\"][\"lat\"]\n",
    "        lons.append(lon)\n",
    "        lats.append(lat)\n",
    "        zips.append(zipcode)\n",
    "\n",
    "    temp_df = pd.DataFrame({\"Zipcode\":zips,\"Lon\":lons,\"Lat\":lats})\n",
    "    for i in df.index:\n",
    "        zipcode = df.at[i,\"Zipcode\"]\n",
    "        zip_loc = temp_df.loc[temp_df[\"Zipcode\"]== zipcode]\n",
    "        df.at[i,\"Lon\"] = zip_loc[\"Lon\"]\n",
    "        df.at[i,\"Lat\"] = zip_loc[\"Lat\"]"
   ]
  },
  {
   "cell_type": "code",
   "execution_count": null,
   "id": "74a9e9db",
   "metadata": {},
   "outputs": [],
   "source": [
    "# Run function for each dataframe to gather the coordinates\n",
    "get_coords(oakland_data)\n",
    "get_coords(kent_data)\n",
    "get_coords(saginaw_data)"
   ]
  },
  {
   "cell_type": "code",
   "execution_count": null,
   "id": "6d4e6764",
   "metadata": {},
   "outputs": [],
   "source": [
    "# Export to CSV to save the API\n",
    "oakland_data.to_csv(\"output_data/oakland_latlon.csv\",index_label = \"datapoint\")\n",
    "saginaw_data.to_csv(\"output_data/saginaw_latlon.csv\",index_label = \"datapoint\")\n",
    "kent_data.to_csv(\"output_data/kent_latlon.csv\",index_label = \"datapoint\")"
   ]
  },
  {
   "cell_type": "code",
   "execution_count": null,
   "id": "f01e5d61",
   "metadata": {},
   "outputs": [],
   "source": [
    "# Import CSVs to continue using data\n",
    "oakland_final = pd.read_csv(\"output_data/oakland_latlon.csv\",index_col=\"datapoint\")\n",
    "kent_final = pd.read_csv(\"output_data/kent_latlon.csv\"   ,index_col=\"datapoint\")\n",
    "saginaw_final = pd.read_csv(\"output_data/saginaw_latlon.csv\",index_col=\"datapoint\")"
   ]
  },
  {
   "cell_type": "code",
   "execution_count": null,
   "id": "d7af334f",
   "metadata": {},
   "outputs": [],
   "source": [
    "oakland_final[\"% Poverty\"] = 100*oakland_final[\"Poverty Count\"]/oakland_final[\"Total Population\"]\n",
    "kent_final[\"% Poverty\"] = 100*kent_final[\"Poverty Count\"]/kent_final[\"Total Population\"]\n",
    "saginaw_final[\"% Poverty\"] = 100*saginaw_final[\"Poverty Count\"]/saginaw_final[\"Total Population\"]"
   ]
  },
  {
   "cell_type": "markdown",
   "id": "eb473d6d",
   "metadata": {},
   "source": [
    "## Oakland County"
   ]
  },
  {
   "cell_type": "code",
   "execution_count": null,
   "id": "8605b628",
   "metadata": {},
   "outputs": [],
   "source": [
    "def get_graphs(df,var,county,scale,clim):\n",
    "    for year in range(2011,2021):\n",
    "        filtered_data = df.loc[df[\"Year\"]==year]\n",
    "        cur_map = filtered_data.hvplot.points(\"Lon\",\"Lat\",xlabel = \"Longitude\",ylabel=\"Latitude\", \n",
    "                                              frame_width = 700, frame_height = 500, geo = True, tiles = \"EsriStreet\", \n",
    "                                              hover_cols = [\"Zipcode\",var], title = f\"{county} County {var}: {year}\", size = var, \n",
    "                                              scale = scale,color=var,clim=clim)\n",
    "        hvplot.save(cur_map,f\"output_data/map_plots/{county}_{var}_{year}.png\")"
   ]
  },
  {
   "cell_type": "code",
   "execution_count": null,
   "id": "1475b86d",
   "metadata": {},
   "outputs": [],
   "source": [
    "# Total Population\n",
    "get_graphs(oakland_final,\"Total Population\",\"Oakland\",.2,(0,50000))"
   ]
  },
  {
   "cell_type": "code",
   "execution_count": null,
   "id": "519fcadc",
   "metadata": {},
   "outputs": [],
   "source": [
    "# Poverty Count\n",
    "get_graphs(oakland_final,(\"% Poverty\"),\"Oakland\",5,(0,25))"
   ]
  },
  {
   "cell_type": "code",
   "execution_count": null,
   "id": "bb356fd9",
   "metadata": {},
   "outputs": [],
   "source": [
    "# % Unemployed\n",
    "get_graphs(oakland_final,\"% Unemployed\",\"Oakland\",5,(0,10))"
   ]
  },
  {
   "cell_type": "code",
   "execution_count": null,
   "id": "ec69e1f7",
   "metadata": {},
   "outputs": [],
   "source": [
    "# Adjusted Median Income\n",
    "get_graphs(oakland_final,\"Adjusted Median Income\",\"Oakland\",.1,(0,150000))"
   ]
  },
  {
   "cell_type": "code",
   "execution_count": null,
   "id": "93dc46cc",
   "metadata": {},
   "outputs": [],
   "source": [
    "# Adjusted Median Rent\n",
    "get_graphs(oakland_final,\"Adjusted Median Rent\",\"Oakland\",1,(0,2000))"
   ]
  },
  {
   "cell_type": "code",
   "execution_count": null,
   "id": "41714e92",
   "metadata": {},
   "outputs": [],
   "source": [
    "# Adjusted Median Home Value\n",
    "get_graphs(oakland_final,\"Adjusted Median Home Value\",\"Oakland\",.07,(0,750000))"
   ]
  },
  {
   "cell_type": "markdown",
   "id": "abc0d375",
   "metadata": {},
   "source": [
    "## Kent County"
   ]
  },
  {
   "cell_type": "code",
   "execution_count": null,
   "id": "44b11f2d",
   "metadata": {},
   "outputs": [],
   "source": [
    "# Total Population\n",
    "get_graphs(kent_final,\"Total Population\",\"Kent\",.2,(0,50000))"
   ]
  },
  {
   "cell_type": "code",
   "execution_count": null,
   "id": "8b663d5e",
   "metadata": {},
   "outputs": [],
   "source": [
    "# Poverty Count\n",
    "get_graphs(kent_final,(\"% Poverty\"),\"Kent\",5,(0,25))"
   ]
  },
  {
   "cell_type": "code",
   "execution_count": null,
   "id": "eecc74d8",
   "metadata": {},
   "outputs": [],
   "source": [
    "# % Unemployed\n",
    "get_graphs(kent_final,\"% Unemployed\",\"Kent\",5,(0,10))"
   ]
  },
  {
   "cell_type": "code",
   "execution_count": null,
   "id": "ece0f63c",
   "metadata": {},
   "outputs": [],
   "source": [
    "# Adjusted Median Income\n",
    "get_graphs(kent_final,\"Adjusted Median Income\",\"Kent\",.1,(0,150000))"
   ]
  },
  {
   "cell_type": "code",
   "execution_count": null,
   "id": "6bc95565",
   "metadata": {},
   "outputs": [],
   "source": [
    "# Adjusted Median Rent\n",
    "get_graphs(kent_final,\"Adjusted Median Rent\",\"Kent\",1,(0,2000))"
   ]
  },
  {
   "cell_type": "code",
   "execution_count": null,
   "id": "61b5bf53",
   "metadata": {},
   "outputs": [],
   "source": [
    "# Adjusted Median Home Value\n",
    "get_graphs(kent_final,\"Adjusted Median Home Value\",\"Kent\",.07,(0,750000))"
   ]
  },
  {
   "cell_type": "markdown",
   "id": "9215ee5f",
   "metadata": {},
   "source": [
    "## Saginaw County"
   ]
  },
  {
   "cell_type": "code",
   "execution_count": null,
   "id": "169bf551",
   "metadata": {},
   "outputs": [],
   "source": [
    "# Total Population\n",
    "get_graphs(saginaw_final,\"Total Population\",\"Saginaw\",.2,(0,50000))"
   ]
  },
  {
   "cell_type": "code",
   "execution_count": null,
   "id": "cbad0eef",
   "metadata": {},
   "outputs": [],
   "source": [
    "# Poverty Count\n",
    "get_graphs(saginaw_final,(\"% Poverty\"),\"Saginaw\",5,(0,25))"
   ]
  },
  {
   "cell_type": "code",
   "execution_count": null,
   "id": "8e4d9d7f",
   "metadata": {},
   "outputs": [],
   "source": [
    "# % Unemployed\n",
    "get_graphs(saginaw_final,\"% Unemployed\",\"Saginaw\",5,(0,10))"
   ]
  },
  {
   "cell_type": "code",
   "execution_count": null,
   "id": "64321a20",
   "metadata": {},
   "outputs": [],
   "source": [
    "# Adjusted Median Income\n",
    "get_graphs(saginaw_final,\"Adjusted Median Income\",\"Saginaw\",.1,(0,150000))"
   ]
  },
  {
   "cell_type": "code",
   "execution_count": null,
   "id": "4431d01f",
   "metadata": {},
   "outputs": [],
   "source": [
    "# Adjusted Median Rent\n",
    "get_graphs(saginaw_final,\"Adjusted Median Rent\",\"Saginaw\",1,(0,2000))"
   ]
  },
  {
   "cell_type": "code",
   "execution_count": null,
   "id": "8723c5ab",
   "metadata": {},
   "outputs": [],
   "source": [
    "# Adjusted Median Home Value\n",
    "get_graphs(saginaw_final,\"Adjusted Median Home Value\",\"Saginaw\",.07,(0,750000))"
   ]
  },
  {
   "cell_type": "code",
   "execution_count": null,
   "id": "4b5a9b48",
   "metadata": {},
   "outputs": [],
   "source": []
  }
 ],
 "metadata": {
  "kernelspec": {
   "display_name": "PythonData2",
   "language": "python",
   "name": "pythondata2"
  },
  "language_info": {
   "codemirror_mode": {
    "name": "ipython",
    "version": 3
   },
   "file_extension": ".py",
   "mimetype": "text/x-python",
   "name": "python",
   "nbconvert_exporter": "python",
   "pygments_lexer": "ipython3",
   "version": "3.7.7"
  }
 },
 "nbformat": 4,
 "nbformat_minor": 5
}
