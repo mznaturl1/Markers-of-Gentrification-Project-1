{
 "cells": [
  {
   "cell_type": "markdown",
   "id": "615fd8f7",
   "metadata": {},
   "source": [
    "# Maps"
   ]
  },
  {
   "cell_type": "code",
   "execution_count": 5,
   "id": "65a7ed1a",
   "metadata": {},
   "outputs": [],
   "source": [
    "# Import dependencies\n",
    "import requests\n",
    "import json\n",
    "import pandas as pd\n",
    "import hvplot.pandas\n",
    "import cartopy\n",
    "import geoviews as gv\n",
    "from config import geoapify_key \n"
   ]
  },
  {
   "cell_type": "code",
   "execution_count": null,
   "id": "d4bf0b3d",
   "metadata": {},
   "outputs": [],
   "source": []
  },
  {
   "cell_type": "code",
   "execution_count": null,
   "id": "6607f58a",
   "metadata": {},
   "outputs": [],
   "source": [
    "# Import Data and move index back\n",
    "oakland_data = pd.read_csv(\"output_data/oakland_data.csv\",index_col=\"datapoint\")\n",
    "kent_data    = pd.read_csv(\"output_data/kent_data.csv\"   ,index_col=\"datapoint\")\n",
    "saginaw_data = pd.read_csv(\"output_data/saginaw_data.csv\",index_col=\"datapoint\")\n",
    "\n",
    "oakland_data[\"Lat\"] = 0.1\n",
    "oakland_data[\"Lon\"] = 0.1\n",
    "saginaw_data[\"Lat\"] = 0.1\n",
    "saginaw_data[\"Lon\"] = 0.1\n",
    "kent_data[\"Lat\"] = 0.1\n",
    "kent_data[\"Lon\"] = 0.1"
   ]
  },
  {
   "cell_type": "code",
   "execution_count": null,
   "id": "905a10fa",
   "metadata": {},
   "outputs": [],
   "source": [
    "# Set up function for gathering coordinates for zipcodes\n",
    "start_url = \"https://api.geoapify.com/v1/geocode/search?text=\"\n",
    "end_url =  \"&lang=en&limit=1&type=postcode&filter=countrycode:us&apiKey=\"+geoapify_key\n",
    "def get_coords(df):\n",
    "    lons = [0]\n",
    "    lats = [0]\n",
    "    zips = [0]\n",
    "    for zipcode in df[\"Zipcode\"].unique():\n",
    "        response = requests.get(start_url+str(zipcode)+end_url).json()\n",
    "        lon = response[\"features\"][0][\"properties\"][\"lon\"]\n",
    "        lat = response[\"features\"][0][\"properties\"][\"lat\"]\n",
    "        lons.append(lon)\n",
    "        lats.append(lat)\n",
    "        zips.append(zipcode)\n",
    "\n",
    "    temp_df = pd.DataFrame({\"Zipcode\":zips,\"Lon\":lons,\"Lat\":lats})\n",
    "    for i in df.index:\n",
    "        zipcode = df.at[i,\"Zipcode\"]\n",
    "        zip_loc = temp_df.loc[temp_df[\"Zipcode\"]== zipcode]\n",
    "        df.at[i,\"Lon\"] = zip_loc[\"Lon\"]\n",
    "        df.at[i,\"Lat\"] = zip_loc[\"Lat\"]"
   ]
  },
  {
   "cell_type": "code",
   "execution_count": null,
   "id": "fd4ba78a",
   "metadata": {},
   "outputs": [],
   "source": [
    "# Run function for each dataframe to gather the coordinates\n",
    "get_coords(oakland_data)\n",
    "get_coords(kent_data)\n",
    "get_coords(saginaw_data)"
   ]
  },
  {
   "cell_type": "code",
   "execution_count": null,
   "id": "6f99192e",
   "metadata": {},
   "outputs": [],
   "source": [
    "# Export to CSV to save the API\n",
    "oakland_data.to_csv(\"output_data/oakland_latlon.csv\",index_label = \"datapoint\")\n",
    "saginaw_data.to_csv(\"output_data/saginaw_latlon.csv\",index_label = \"datapoint\")\n",
    "kent_data.to_csv(\"output_data/kent_latlon.csv\",index_label = \"datapoint\")"
   ]
  },
  {
   "cell_type": "code",
   "execution_count": 6,
   "id": "03a28f2d",
   "metadata": {},
   "outputs": [],
   "source": [
    "# Import CSVs to continue using data\n",
    "oakland_final = pd.read_csv(\"output_data/oakland_latlon.csv\",index_col=\"datapoint\")\n",
    "kent_final = pd.read_csv(\"output_data/kent_latlon.csv\"   ,index_col=\"datapoint\")\n",
    "saginaw_final = pd.read_csv(\"output_data/saginaw_latlon.csv\",index_col=\"datapoint\")"
   ]
  },
  {
   "cell_type": "code",
   "execution_count": 71,
   "id": "65247147",
   "metadata": {},
   "outputs": [],
   "source": [
    "oakland_final[\"% Poverty\"] = 100*oakland_final[\"Poverty Count\"]/oakland_final[\"Total Population\"]\n",
    "kent_final[\"% Poverty\"] = 100*kent_final[\"Poverty Count\"]/kent_final[\"Total Population\"]\n",
    "saginaw_final[\"% Poverty\"] = 100*saginaw_final[\"Poverty Count\"]/saginaw_final[\"Total Population\"]"
   ]
  },
  {
   "cell_type": "markdown",
   "id": "df66ef77",
   "metadata": {},
   "source": [
    "## Oakland County"
   ]
  },
  {
   "cell_type": "code",
   "execution_count": 72,
   "id": "796b084d",
   "metadata": {},
   "outputs": [],
   "source": [
    "def get_graphs(df,var,county,scale,clim):\n",
    "    for year in range(2011,2021):\n",
    "        filtered_data = df.loc[df[\"Year\"]==year]\n",
    "        cur_map = filtered_data.hvplot.points(\"Lon\",\"Lat\",xlabel = \"Longitude\",ylabel=\"Latitude\", \n",
    "                                              frame_width = 700, frame_height = 500, geo = True, tiles = \"EsriStreet\", \n",
    "                                              hover_cols = [\"Zipcode\",var], title = f\"{county} County {var}: {year}\", size = var, \n",
    "                                              scale = scale,color=var,clim=clim)\n",
    "        hvplot.save(cur_map,f\"output_data/map_plots/{county}_{var}_{year}.png\")"
   ]
  },
  {
   "cell_type": "code",
   "execution_count": 73,
   "id": "4653b72a",
   "metadata": {},
   "outputs": [],
   "source": [
    "# Total Population\n",
    "get_graphs(oakland_final,\"Total Population\",\"Oakland\",.2,(0,50000))"
   ]
  },
  {
   "cell_type": "code",
   "execution_count": 91,
   "id": "adc4296b",
   "metadata": {},
   "outputs": [],
   "source": [
    "# Poverty Count\n",
    "get_graphs(oakland_final,(\"% Poverty\"),\"Oakland\",5,(0,25))"
   ]
  },
  {
   "cell_type": "code",
   "execution_count": 92,
   "id": "db8a0949",
   "metadata": {},
   "outputs": [],
   "source": [
    "# % Unemployed\n",
    "get_graphs(oakland_final,\"% Unemployed\",\"Oakland\",5,(0,10))"
   ]
  },
  {
   "cell_type": "code",
   "execution_count": 76,
   "id": "2972e6fc",
   "metadata": {},
   "outputs": [],
   "source": [
    "# Adjusted Median Income\n",
    "get_graphs(oakland_final,\"Adjusted Median Income\",\"Oakland\",.1,(0,150000))"
   ]
  },
  {
   "cell_type": "code",
   "execution_count": 77,
   "id": "a0103f61",
   "metadata": {},
   "outputs": [],
   "source": [
    "# Adjusted Median Rent\n",
    "get_graphs(oakland_final,\"Adjusted Median Rent\",\"Oakland\",1,(0,2000))"
   ]
  },
  {
   "cell_type": "code",
   "execution_count": 78,
   "id": "e518d6c0",
   "metadata": {},
   "outputs": [],
   "source": [
    "# Adjusted Median Home Value\n",
    "get_graphs(oakland_final,\"Adjusted Median Home Value\",\"Oakland\",.07,(0,750000))"
   ]
  },
  {
   "cell_type": "markdown",
   "id": "4c55fbaf",
   "metadata": {},
   "source": [
    "## Kent County"
   ]
  },
  {
   "cell_type": "code",
   "execution_count": 79,
   "id": "87c8b396",
   "metadata": {},
   "outputs": [],
   "source": [
    "# Total Population\n",
    "get_graphs(kent_final,\"Total Population\",\"Kent\",.2,(0,50000))"
   ]
  },
  {
   "cell_type": "code",
   "execution_count": 93,
   "id": "be92ce9d",
   "metadata": {},
   "outputs": [],
   "source": [
    "# Poverty Count\n",
    "get_graphs(kent_final,(\"% Poverty\"),\"Kent\",5,(0,25))"
   ]
  },
  {
   "cell_type": "code",
   "execution_count": 94,
   "id": "87cae227",
   "metadata": {},
   "outputs": [],
   "source": [
    "# % Unemployed\n",
    "get_graphs(kent_final,\"% Unemployed\",\"Kent\",5,(0,10))"
   ]
  },
  {
   "cell_type": "code",
   "execution_count": 82,
   "id": "0ba41b28",
   "metadata": {},
   "outputs": [],
   "source": [
    "# Adjusted Median Income\n",
    "get_graphs(kent_final,\"Adjusted Median Income\",\"Kent\",.1,(0,150000))"
   ]
  },
  {
   "cell_type": "code",
   "execution_count": 83,
   "id": "cce30ce2",
   "metadata": {},
   "outputs": [],
   "source": [
    "# Adjusted Median Rent\n",
    "get_graphs(kent_final,\"Adjusted Median Rent\",\"Kent\",1,(0,2000))"
   ]
  },
  {
   "cell_type": "code",
   "execution_count": 84,
   "id": "0696f48b",
   "metadata": {},
   "outputs": [],
   "source": [
    "# Adjusted Median Home Value\n",
    "get_graphs(kent_final,\"Adjusted Median Home Value\",\"Kent\",.07,(0,750000))"
   ]
  },
  {
   "cell_type": "markdown",
   "id": "f2bbefe6",
   "metadata": {},
   "source": [
    "## Saginaw County"
   ]
  },
  {
   "cell_type": "code",
   "execution_count": 85,
   "id": "710db897",
   "metadata": {},
   "outputs": [],
   "source": [
    "# Total Population\n",
    "get_graphs(saginaw_final,\"Total Population\",\"Saginaw\",.2,(0,50000))"
   ]
  },
  {
   "cell_type": "code",
   "execution_count": 95,
   "id": "f15838c1",
   "metadata": {},
   "outputs": [],
   "source": [
    "# Poverty Count\n",
    "get_graphs(saginaw_final,(\"% Poverty\"),\"Saginaw\",5,(0,25))"
   ]
  },
  {
   "cell_type": "code",
   "execution_count": 96,
   "id": "0638826c",
   "metadata": {},
   "outputs": [],
   "source": [
    "# % Unemployed\n",
    "get_graphs(saginaw_final,\"% Unemployed\",\"Saginaw\",5,(0,10))"
   ]
  },
  {
   "cell_type": "code",
   "execution_count": 88,
   "id": "5c047c82",
   "metadata": {},
   "outputs": [],
   "source": [
    "# Adjusted Median Income\n",
    "get_graphs(saginaw_final,\"Adjusted Median Income\",\"Saginaw\",.1,(0,150000))"
   ]
  },
  {
   "cell_type": "code",
   "execution_count": 89,
   "id": "7c906f44",
   "metadata": {},
   "outputs": [],
   "source": [
    "# Adjusted Median Rent\n",
    "get_graphs(saginaw_final,\"Adjusted Median Rent\",\"Saginaw\",1,(0,2000))"
   ]
  },
  {
   "cell_type": "code",
   "execution_count": 90,
   "id": "fdb5a061",
   "metadata": {},
   "outputs": [],
   "source": [
    "# Adjusted Median Home Value\n",
    "get_graphs(saginaw_final,\"Adjusted Median Home Value\",\"Saginaw\",.07,(0,750000))"
   ]
  },
  {
   "cell_type": "code",
   "execution_count": null,
   "id": "da3f1514",
   "metadata": {},
   "outputs": [],
   "source": []
  }
 ],
 "metadata": {
  "kernelspec": {
   "display_name": "PythonData2",
   "language": "python",
   "name": "pythondata2"
  },
  "language_info": {
   "codemirror_mode": {
    "name": "ipython",
    "version": 3
   },
   "file_extension": ".py",
   "mimetype": "text/x-python",
   "name": "python",
   "nbconvert_exporter": "python",
   "pygments_lexer": "ipython3",
   "version": "3.7.7"
  }
 },
 "nbformat": 4,
 "nbformat_minor": 5
}
