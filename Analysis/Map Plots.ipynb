{
 "cells": [
  {
   "cell_type": "markdown",
   "id": "1ee0fdae",
   "metadata": {},
   "source": [
    "# GIF Maps"
   ]
  },
  {
   "cell_type": "code",
   "execution_count": null,
   "id": "c365e5c8",
   "metadata": {},
   "outputs": [],
   "source": [
    "# Import dependencies\n",
    "import geopandas\n",
    "import pandas as pd\n",
    "import matplotlib.pyplot as plt"
   ]
  },
  {
   "cell_type": "code",
   "execution_count": null,
   "id": "1f208a89",
   "metadata": {},
   "outputs": [],
   "source": [
    "# Import data and move index back\n",
    "oakland_data = pd.read_csv(\"output_data/oakland_data.csv\",index_col=\"datapoint\")\n",
    "kent_data    = pd.read_csv(\"output_data/kent_data.csv\"   ,index_col=\"datapoint\")\n",
    "saginaw_data = pd.read_csv(\"output_data/saginaw_data.csv\",index_col=\"datapoint\")"
   ]
  },
  {
   "cell_type": "markdown",
   "id": "aedaa75b",
   "metadata": {},
   "source": [
    "## Oakland County"
   ]
  },
  {
   "cell_type": "markdown",
   "id": "b97e134a",
   "metadata": {},
   "source": [
    "## Kent County"
   ]
  },
  {
   "cell_type": "markdown",
   "id": "69f3549e",
   "metadata": {},
   "source": [
    "## Saginaw County"
   ]
  }
 ],
 "metadata": {
  "kernelspec": {
   "display_name": "PythonData2",
   "language": "python",
   "name": "pythondata2"
  },
  "language_info": {
   "codemirror_mode": {
    "name": "ipython",
    "version": 3
   },
   "file_extension": ".py",
   "mimetype": "text/x-python",
   "name": "python",
   "nbconvert_exporter": "python",
   "pygments_lexer": "ipython3",
   "version": "3.7.7"
  }
 },
 "nbformat": 4,
 "nbformat_minor": 5
}
