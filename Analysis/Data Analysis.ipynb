{
 "cells": [
  {
   "cell_type": "code",
   "execution_count": null,
   "id": "0772fe78",
   "metadata": {},
   "outputs": [],
   "source": [
    "%matplotlib notebook\n",
    "%matplotlib inline"
   ]
  },
  {
   "cell_type": "code",
   "execution_count": null,
   "id": "00c8f9a1",
   "metadata": {},
   "outputs": [],
   "source": [
    "# Import dependencies\n",
    "import pandas as pd\n",
    "import matplotlib.pyplot as plt\n",
    "import numpy as np\n",
    "from scipy.stats import linregress\n",
    "from scipy.stats import shapiro"
   ]
  },
  {
   "cell_type": "code",
   "execution_count": null,
   "id": "aa68a18a",
   "metadata": {},
   "outputs": [],
   "source": [
    "# Read CSV\n",
    "csvpath = \"output_data/census.csv\"\n",
    "census_df = pd.read_csv(csvpath,index_col=\"datapoint\")\n",
    "census_df[\"Zipcode\"] = census_df[\"Zipcode\"].astype(\"category\")\n",
    "census_df"
   ]
  },
  {
   "cell_type": "code",
   "execution_count": null,
   "id": "bc2b9d24",
   "metadata": {},
   "outputs": [],
   "source": [
    "# Create column in DF for ratios of White/Black population and poverty counts AND employed / unemployed\n",
    "for i in census_df.index:\n",
    "    census_df.at[i,\"% Black Population\"] = 100*(census_df.at[i,\"Black Population\"] / census_df.at[i,\"Total Population\"])\n",
    "    census_df.at[i,\"% White Population\"] = 100*(census_df.at[i,\"White Population\"] / census_df.at[i,\"Total Population\"])\n",
    "    census_df.at[i,\"% Unemployed\"]       = 100*(census_df.at[i,\"Unemployed Count\"] / census_df.at[i,\"Total Population\"])\n",
    "    census_df.at[i, \"% Black Poverty\"]   = 100*(census_df.at[i,\"Poverty Count - Black\"] / census_df.at[i,\"Poverty Count\"])\n",
    "    census_df.at[i, \"% White Poverty\"]   = 100*(census_df.at[i,\"Poverty Count - White\"] / census_df.at[i,\"Poverty Count\"])\n",
    "census_df"
   ]
  },
  {
   "cell_type": "code",
   "execution_count": null,
   "id": "e64a62de",
   "metadata": {},
   "outputs": [],
   "source": [
    "# Create separate DFs for each county\n",
    "oakland_data = pd.DataFrame(census_df.loc[census_df[\"County\"] == \"Oakland\"])\n",
    "kent_data = pd.DataFrame(census_df.loc[census_df[\"County\"] == \"Kent\"])\n",
    "saginaw_data = pd.DataFrame(census_df.loc[census_df[\"County\"] == \"Saginaw\"])\n",
    "\n",
    "# Ensure zipcodes are categorical\n",
    "oakland_data[\"Zipcode\"] = oakland_data[\"Zipcode\"].astype(\"object\")\n",
    "kent_data[\"Zipcode\"] = kent_data[\"Zipcode\"].astype(\"object\")\n",
    "saginaw_data[\"Zipcode\"] = saginaw_data[\"Zipcode\"].astype(\"object\")\n",
    "\n",
    "# Export separate dataframes for use in Map Plots ipynb \n",
    "oakland_data.to_csv(\"output_data/oakland_data.csv\",index_label=\"datapoint\")\n",
    "kent_data.to_csv(\"output_data/kent_data.csv\",index_label=\"datapoint\")\n",
    "saginaw_data.to_csv(\"output_data/saginaw_data.csv\",index_label=\"datapoint\")"
   ]
  },
  {
   "cell_type": "code",
   "execution_count": null,
   "id": "d7dd949a",
   "metadata": {},
   "outputs": [],
   "source": [
    "# Determine if any of the datasets are normally distributed\n",
    "oakland_shapiro_df = pd.DataFrame({\"Total Population\": [shapiro(oakland_data[\"Total Population\"])],\n",
    "                                   \"Adjusted Median Income\": [shapiro(oakland_data[\"Adjusted Median Income\"])] ,\n",
    "                                   \"Adjusted Median Rent\": [shapiro(oakland_data[\"Adjusted Median Rent\"])] ,\n",
    "                                   \"Adjusted Median Home Value\": [shapiro(oakland_data[\"Adjusted Median Home Value\"])] ,\n",
    "                                   \"% Black Population\": [shapiro(oakland_data[\"% Black Population\"])] ,\n",
    "                                   \"% White Population\": [shapiro(oakland_data[\"% White Population\"])] ,\n",
    "                                   \"% Unemployed\": [shapiro(oakland_data[\"% Unemployed\"])] , \n",
    "                                   \"% Black Poverty\":  [shapiro(oakland_data[\"% Black Poverty\"])],\n",
    "                                   \"% White Poverty\": [shapiro(oakland_data[\"% White Poverty\"])]\n",
    "                                  })\n",
    "oakland_shapiro_df\n",
    "\n",
    "## None of the p values (second number) are over .05, so the data does not come from a normal distribution"
   ]
  },
  {
   "cell_type": "code",
   "execution_count": null,
   "id": "09a4a9e1",
   "metadata": {},
   "outputs": [],
   "source": [
    "# Determine if any of the datasets are normally distributed\n",
    "saginaw_shapiro_df = pd.DataFrame({\"Total Population\": [shapiro(saginaw_data[\"Total Population\"])],\n",
    "                                   \"Adjusted Median Income\": [shapiro(saginaw_data[\"Adjusted Median Income\"])] ,\n",
    "                                   \"Adjusted Median Rent\": [shapiro(saginaw_data[\"Adjusted Median Rent\"])] ,\n",
    "                                   \"Adjusted Median Home Value\": [shapiro(saginaw_data[\"Adjusted Median Home Value\"])] ,\n",
    "                                   \"% Black Population\": [shapiro(saginaw_data[\"% Black Population\"])] ,\n",
    "                                   \"% White Population\": [shapiro(saginaw_data[\"% White Population\"])] ,\n",
    "                                   \"% Unemployed\": [shapiro(saginaw_data[\"% Unemployed\"])] , \n",
    "                                   \"% Black Poverty\":  [shapiro(saginaw_data[\"% Black Poverty\"])],\n",
    "                                   \"% White Poverty\": [shapiro(saginaw_data[\"% White Poverty\"])]\n",
    "                                  })\n",
    "saginaw_shapiro_df\n",
    "## None of the p values (second number) are over .05, so the data does not come from a normal distribution"
   ]
  },
  {
   "cell_type": "code",
   "execution_count": null,
   "id": "e715e8bd",
   "metadata": {},
   "outputs": [],
   "source": [
    "# Determine if any of the datasets are normally distributed\n",
    "kent_shapiro_df = pd.DataFrame({\"Total Population\": [shapiro(kent_data[\"Total Population\"])],\n",
    "                                   \"Adjusted Median Income\": [shapiro(kent_data[\"Adjusted Median Income\"])] ,\n",
    "                                   \"Adjusted Median Rent\": [shapiro(kent_data[\"Adjusted Median Rent\"])] ,\n",
    "                                   \"Adjusted Median Home Value\": [shapiro(kent_data[\"Adjusted Median Home Value\"])] ,\n",
    "                                   \"% Black Population\": [shapiro(kent_data[\"% Black Population\"])] ,\n",
    "                                   \"% White Population\": [shapiro(kent_data[\"% White Population\"])] ,\n",
    "                                   \"% Unemployed\": [shapiro(kent_data[\"% Unemployed\"])] , \n",
    "                                   \"% Black Poverty\":  [shapiro(kent_data[\"% Black Poverty\"])],\n",
    "                                   \"% White Poverty\": [shapiro(kent_data[\"% White Poverty\"])]\n",
    "                                  })\n",
    "kent_shapiro_df\n",
    "## None of the p values (second number) are over .05, so the data does not come from a normal distribution"
   ]
  },
  {
   "cell_type": "code",
   "execution_count": null,
   "id": "e5fb0f6a",
   "metadata": {},
   "outputs": [],
   "source": [
    "# Create summary statistics table with stats for each county (mean / median of each column)\n",
    "summary_stats = census_df.describe()\n",
    "summary_stats = summary_stats.drop(columns=['Year', 'Zipcode'])\n",
    "summary_stats"
   ]
  },
  {
   "cell_type": "code",
   "execution_count": null,
   "id": "8060b2c6",
   "metadata": {},
   "outputs": [],
   "source": [
    "Saginaw_df = census_df.loc[census_df['County'] == 'Saginaw']\n",
    "saginaw_summary = Saginaw_df.describe()\n",
    "saginaw_summary = saginaw_summary.drop(columns=['Year', 'Zipcode'])\n",
    "saginaw_summary"
   ]
  },
  {
   "cell_type": "code",
   "execution_count": null,
   "id": "c62b40b9",
   "metadata": {},
   "outputs": [],
   "source": [
    "kent_df = census_df.loc[census_df['County'] == 'Kent']\n",
    "kent_summary = kent_df.describe()\n",
    "kent_summary = kent_summary.drop(columns=['Year', 'Zipcode'])\n",
    "kent_summary"
   ]
  },
  {
   "cell_type": "code",
   "execution_count": null,
   "id": "bd07fad6",
   "metadata": {},
   "outputs": [],
   "source": [
    "Oakland_df = census_df.loc[census_df['County'] == 'Oakland']\n",
    "oakland_summary = Oakland_df.describe()\n",
    "oakland_summary = oakland_summary.drop(columns=['Year', 'Zipcode'])\n",
    "oakland_summary"
   ]
  },
  {
   "cell_type": "markdown",
   "id": "8c957863",
   "metadata": {},
   "source": [
    "# Income in Each County, by Zipcode **Jonathan**"
   ]
  },
  {
   "cell_type": "code",
   "execution_count": null,
   "id": "6fd958b0",
   "metadata": {},
   "outputs": [],
   "source": [
    "# Create scatter plot(s) for Income in each county\n"
   ]
  },
  {
   "cell_type": "code",
   "execution_count": null,
   "id": "52e359aa",
   "metadata": {},
   "outputs": [],
   "source": [
    "# Calculate the linear regression and correlation for each county's plot\n"
   ]
  },
  {
   "cell_type": "code",
   "execution_count": null,
   "id": "00cac2b4",
   "metadata": {},
   "outputs": [],
   "source": [
    "# Add the linear regression line to the graph, if it makes sense (|r| > ?)\n"
   ]
  },
  {
   "cell_type": "code",
   "execution_count": null,
   "id": "5bb8ac53",
   "metadata": {},
   "outputs": [],
   "source": [
    "# Export final graph\n"
   ]
  },
  {
   "cell_type": "markdown",
   "id": "548e8e74",
   "metadata": {},
   "source": [
    "# Home Values in Each County, by Zipcode **Tamica**"
   ]
  },
  {
   "cell_type": "code",
   "execution_count": null,
   "id": "8825d500",
   "metadata": {},
   "outputs": [],
   "source": [
    "# Create scatter plot(s) for Home Values in each county\n"
   ]
  },
  {
   "cell_type": "code",
   "execution_count": null,
   "id": "c6dcffda",
   "metadata": {},
   "outputs": [],
   "source": [
    "# Calculate the linear regression and correlation for each county's plot\n"
   ]
  },
  {
   "cell_type": "code",
   "execution_count": null,
   "id": "309258ee",
   "metadata": {},
   "outputs": [],
   "source": [
    "# Add the linear regression line to the graph, if it makes sense (|r| > ?)\n"
   ]
  },
  {
   "cell_type": "code",
   "execution_count": null,
   "id": "cd99149d",
   "metadata": {},
   "outputs": [],
   "source": [
    "# Export final graph\n"
   ]
  },
  {
   "cell_type": "markdown",
   "id": "6f54bc3e",
   "metadata": {},
   "source": [
    "# Rent Prices in Each County, by Zipcode **Stephanie**"
   ]
  },
  {
   "cell_type": "markdown",
   "id": "0cab5ee4",
   "metadata": {},
   "source": [
    "# Saginaw County Median Rent vs Year by Zipcode"
   ]
  },
  {
   "cell_type": "code",
   "execution_count": null,
   "id": "770fb7c0",
   "metadata": {},
   "outputs": [],
   "source": [
    "Saginaw_df = census_df.loc[census_df['County'] == 'Saginaw']\n",
    "Saginaw_df = Saginaw_df.sort_values('Year', ascending=True)\n",
    "Saginaw_df.set_index('Year', inplace=True)\n",
    "Saginaw_df.groupby('Zipcode')['Adjusted Median Rent'].plot()\n",
    "plt.legend(loc=(1.01,0.01), ncol= 2)\n",
    "plt.xlabel('Year')\n",
    "plt.ylabel('Adjusted Median Rent')\n",
    "plt.title('Saginaw Median Rent by Zipcode (2011-2020)')\n",
    "plt.xlim(2011, 2020)\n",
    "plt.savefig(\"output_data/saginaw_rent_zipcodes\")"
   ]
  },
  {
   "cell_type": "code",
   "execution_count": null,
   "id": "92090843",
   "metadata": {},
   "outputs": [],
   "source": [
    "# calculate and add linear regression to evaluate\n",
    "Saginaw = census_df.loc[census_df['County'] == 'Saginaw']\n",
    "Saginaw_df = Saginaw.sort_values('Year', ascending=True)\n",
    "Saginaw_df.set_index('Year', inplace=True)\n",
    "Saginaw_df.groupby('Zipcode')['Adjusted Median Rent'].plot()\n",
    "plt.legend(loc=(1.01,0.01), ncol= 2)\n",
    "plt.xlabel('Year')\n",
    "plt.ylabel('Adjusted Median Rent')\n",
    "plt.title('Saginaw Median Rent by Zipcode (2011-2020)')\n",
    "plt.xlim(2011, 2020)\n",
    "(slope, intercept, rvalue, pvalue, stderr) = linregress(Saginaw_df.index, Saginaw_df['Adjusted Median Rent'])\n",
    "regress_values = Saginaw_df.index * slope + intercept\n",
    "line_eq = 'y = ' + str(round(slope,2)) + 'x + ' + str(round(intercept,2))\n",
    "plt.plot(Saginaw_df.index, regress_values, 'r-')\n",
    "plt.annotate(line_eq, (2016, 400), fontsize= 12, color= 'red')\n",
    "print(f'The r-value is: {rvalue}')\n",
    "plt.savefig(\"output_data/saginaw_rent_zipcodes_with_regression\")"
   ]
  },
  {
   "cell_type": "markdown",
   "id": "6679743b",
   "metadata": {},
   "source": [
    "# Oakland County Median Rent vs Year by Zipcode"
   ]
  },
  {
   "cell_type": "code",
   "execution_count": null,
   "id": "79fa0cf5",
   "metadata": {},
   "outputs": [],
   "source": [
    "Oakland_df = census_df.loc[census_df['County'] == 'Oakland']\n",
    "Oakland_df = Oakland_df.sort_values('Year', ascending=True)\n",
    "Oakland_df.set_index('Year', inplace=True)\n",
    "Oakland_df.groupby('Zipcode')['Adjusted Median Rent'].plot()\n",
    "plt.legend(loc=(1.01,0.01), ncol= 4)\n",
    "plt.xlabel('Year')\n",
    "plt.ylabel('Adjusted Median Rent')\n",
    "plt.title('Oakland Median Rent by Zipcode (2011-2020)')\n",
    "plt.xlim(2011,2020)\n",
    "plt.savefig(\"output_data/oakland_rent_zipcodes\")"
   ]
  },
  {
   "cell_type": "code",
   "execution_count": null,
   "id": "7984939f",
   "metadata": {},
   "outputs": [],
   "source": [
    "# calculate linear regression to evaluate\n",
    "Oakland_df = census_df.loc[census_df['County'] == 'Oakland']\n",
    "Oakland_df = Oakland_df.sort_values('Year', ascending=True)\n",
    "Oakland_df.set_index('Year', inplace=True)\n",
    "Oakland_df.groupby('Zipcode')['Adjusted Median Rent'].plot()\n",
    "plt.legend(loc=(1.01,0.01), ncol= 4)\n",
    "plt.xlabel('Year')\n",
    "plt.ylabel('Adjusted Median Rent')\n",
    "plt.title('Oakland Median Rent by Zipcode (2011-2020)')\n",
    "plt.xlim(2011,2020)\n",
    "(slope, intercept, rvalue, pvalue, stderr) = linregress(Oakland_df.index, Oakland_df['Adjusted Median Rent'])\n",
    "regress_values = Oakland_df.index * slope + intercept\n",
    "line_eq = 'y = ' + str(round(slope,2)) + 'x + ' + str(round(intercept,2))\n",
    "plt.plot(Oakland_df.index, regress_values, 'r-')\n",
    "plt.annotate(line_eq, (2011, 500), fontsize= 12, color= 'red')\n",
    "print(f'The r-value is: {rvalue}')\n",
    "plt.savefig(\"output_data/oakland_rent_zipcodes_with_regression\")"
   ]
  },
  {
   "cell_type": "markdown",
   "id": "fdc8d1c9",
   "metadata": {},
   "source": [
    "# Kent County Median Rent vs Year by Zipcode\n"
   ]
  },
  {
   "cell_type": "code",
   "execution_count": null,
   "id": "6595a24e",
   "metadata": {},
   "outputs": [],
   "source": [
    "Kent_df = census_df.loc[census_df['County'] == 'Kent']\n",
    "Kent_df = Kent_df.sort_values('Year', ascending=True)\n",
    "Kent_df.set_index('Year', inplace=True)\n",
    "Kent_df.groupby('Zipcode')['Adjusted Median Rent'].plot()\n",
    "plt.legend(loc=(1.01,0.01), ncol= 2)\n",
    "plt.xlabel('Year')\n",
    "plt.ylabel('Adjusted Median Rent')\n",
    "plt.title('Kent Median Rent by Zipcode (2011-2020)')\n",
    "plt.xlim(2011,2020)\n",
    "plt.savefig(\"output_data/kent_rent_zipcodes\")"
   ]
  },
  {
   "cell_type": "code",
   "execution_count": null,
   "id": "f4be32a8",
   "metadata": {},
   "outputs": [],
   "source": [
    "# Calculate the linear regression and correlation for each county's plot\n",
    "Kent_df = census_df.loc[census_df['County'] == 'Kent']\n",
    "Kent_df = Kent_df.sort_values('Year', ascending=True)\n",
    "Kent_df.set_index('Year', inplace=True)\n",
    "Kent_df.groupby('Zipcode')['Adjusted Median Rent'].plot()\n",
    "plt.legend(loc=(1.01,0.01), ncol= 2)\n",
    "plt.xlabel('Year')\n",
    "plt.ylabel('Adjusted Median Rent')\n",
    "plt.title('Kent Median Rent by Zipcode (2011-2020)')\n",
    "plt.xlim(2011,2020)\n",
    "(slope, intercept, rvalue, pvalue, stderr) = linregress(Kent_df.index, Kent_df['Adjusted Median Rent'])\n",
    "regress_values = Kent_df.index * slope + intercept\n",
    "line_eq = 'y = ' + str(round(slope,2)) + 'x + ' + str(round(intercept,2))\n",
    "plt.plot(Kent_df.index, regress_values, 'r-')\n",
    "plt.annotate(line_eq, (2011, 500), fontsize= 12, color= 'red')\n",
    "print(f'The r-value is: {rvalue}')\n",
    "plt.savefig(\"output_data/kent_rent_zipcodes_with_regression\")"
   ]
  },
  {
   "cell_type": "code",
   "execution_count": null,
   "id": "c6ea7e81",
   "metadata": {},
   "outputs": [],
   "source": [
    "# Calculate and plot average rent for each county\n",
    "saginaw_county_mean_rent = Saginaw_df.groupby('Year')['Adjusted Median Rent'].mean()\n",
    "oakland_county_mean_rent = Oakland_df.groupby('Year')['Adjusted Median Rent'].mean()\n",
    "kent_county_mean_rent = Kent_df.groupby('Year')['Adjusted Median Rent'].mean()\n",
    "\n",
    "plt.plot(saginaw_county_mean_rent, label=\"Saginaw County\")\n",
    "plt.plot(oakland_county_mean_rent, label=\"Oakland County\")\n",
    "plt.plot(kent_county_mean_rent, label=\"Kent County\")\n",
    "plt.legend(loc=(1.01,0.01))\n",
    "plt.xlabel('Year')\n",
    "plt.ylabel('Adjusted Median Rent')\n",
    "plt.title('Average County Rent (2011-2020)')\n",
    "plt.xlim(2011,2020)\n",
    "\n",
    "saginaw_county_mean_rent = pd.DataFrame(saginaw_county_mean_rent).reset_index()\n",
    "oakland_county_mean_rent = pd.DataFrame(oakland_county_mean_rent).reset_index()\n",
    "kent_county_mean_rent = pd.DataFrame(kent_county_mean_rent).reset_index()\n",
    "\n",
    "county_mean_rent = pd.merge(saginaw_county_mean_rent, oakland_county_mean_rent, how='outer', on='Year')\n",
    "county_mean_rent = pd.merge(county_mean_rent, kent_county_mean_rent, how='outer', on='Year')\n",
    "county_mean_rent.rename(columns={'Adjusted Median Rent_x': 'Saginaw Average Rent', 'Adjusted Median Rent_y': 'Oakland Average Rent', 'Adjusted Median Rent': 'Kent Average Rent'})\n",
    "\n",
    "# Should this also have a line of regression? Or I guess, is it possible to add one?\n",
    "\n",
    "#(slope, intercept, rvalue, pvalue, stderr) = linregress(county_mean_rent['Year'], **y values**)\n",
    "#regress_values = county_mean_rent['Year'] * slope + intercept\n",
    "#line_eq = 'y = ' + str(round(slope,2)) + 'x + ' + str(round(intercept,2))\n",
    "#plt.plot(county_mean_rent['Year'], regress_values, 'r-')\n",
    "#plt.annotate(line_eq, (2011, 500), fontsize= 12, color= 'red')\n",
    "#print(f'The r-value is: {rvalue}')\n",
    "#plt.savefig(\"output_data/county_average_rent\")"
   ]
  },
  {
   "cell_type": "markdown",
   "id": "96e4f0e5",
   "metadata": {},
   "source": [
    "# Demographic Composition in Each County, by Zipcode **Rhi**"
   ]
  },
  {
   "cell_type": "code",
   "execution_count": null,
   "id": "2dc71ace",
   "metadata": {},
   "outputs": [],
   "source": [
    "# Create histogram for population distribution across zipcodes\n",
    "fig = plt.figure(figsize = (8,8))\n",
    "ax1 = fig.add_subplot(311)\n",
    "ax1.hist(oakland_data[\"Total Population\"],color=\"green\")\n",
    "ax2 = fig.add_subplot(312,sharex=ax1, sharey=ax1)\n",
    "ax2.hist(saginaw_data[\"Total Population\"],color=\"blue\")\n",
    "ax3 = fig.add_subplot(313,sharex=ax1, sharey=ax1)\n",
    "ax3.hist(kent_data[\"Total Population\"],color=\"red\")\n",
    "ax1.text(.5,140,\"Oakland County Population\")\n",
    "ax2.text(.5,140,\"Saginaw County Population\")\n",
    "ax3.text(.5,140,\"Kent County Population\")\n",
    "for ax in fig.get_axes():\n",
    "    ax.set(xlabel=\"Population\",ylabel=\"Count\")\n",
    "    ax.label_outer()\n",
    "fig.suptitle(\"Population counts across zipcodes\")\n",
    "plt.savefig(\"output_data/overall_populations_across_counties\")\n",
    "plt.show()"
   ]
  },
  {
   "cell_type": "code",
   "execution_count": null,
   "id": "dd8c1eda",
   "metadata": {},
   "outputs": [],
   "source": [
    "# Create dataframes grouped by zipcode for zipcode analysis\n",
    "oakland_grouped = oakland_data.groupby(\"Zipcode\").median()\n",
    "kent_grouped = kent_data.groupby(\"Zipcode\").median()\n",
    "saginaw_grouped = saginaw_data.groupby(\"Zipcode\").median()"
   ]
  },
  {
   "cell_type": "markdown",
   "id": "44582822",
   "metadata": {},
   "source": [
    "##  Oakland County Analyses"
   ]
  },
  {
   "cell_type": "code",
   "execution_count": null,
   "id": "499b1495",
   "metadata": {
    "scrolled": false
   },
   "outputs": [],
   "source": [
    "# Stacked bar chart for population by county\n",
    "\n",
    "fig = plt.figure(figsize = (15,8))\n",
    "xaxis = np.arange(0,len(oakland_grouped.index))\n",
    "label = (oakland_grouped.index.tolist())\n",
    "line1 = plt.bar(xaxis,oakland_grouped[\"White Population\"],color='c',label=\"\")\n",
    "plt.xticks(ticks=xaxis,labels=label,rotation=90)\n",
    "line3 = plt.bar(xaxis,(oakland_grouped[\"Total Population\"]-oakland_grouped[\"Black Population\"]-oakland_grouped[\"White Population\"]),\n",
    "                       label=label,bottom=oakland_grouped[\"White Population\"],color='r')\n",
    "line2 = plt.bar(xaxis,oakland_grouped[\"Black Population\"],label=label,bottom=oakland_grouped[\"White Population\"],color='b')\n",
    "plt.legend([line1, line2,line3],[\"White\",\"Black\",\"Other\"])\n",
    "plt.xlabel(\"Zipcode\")\n",
    "plt.ylabel(\"Population\")\n",
    "plt.title(\"Median Populations in Oakland County from 2011-2020\")\n",
    "plt.savefig(\"output_data/populations_Oakland.png\")\n",
    "plt.show()\n"
   ]
  },
  {
   "cell_type": "code",
   "execution_count": null,
   "id": "1d1cdd7d",
   "metadata": {
    "scrolled": true
   },
   "outputs": [],
   "source": [
    "# Stacked bar chart for poverty rates\n",
    "fig = plt.figure(figsize = (15,8))\n",
    "xaxis = np.arange(0,len(oakland_grouped.index))\n",
    "label = (oakland_grouped.index.tolist())\n",
    "line1 = plt.bar(xaxis,oakland_grouped[\"Poverty Count - White\"],color='c',label=\"\")\n",
    "plt.xticks(ticks=xaxis,labels=label,rotation=90)\n",
    "line3 = plt.bar(xaxis,(oakland_grouped[\"Poverty Count\"]-oakland_grouped[\"Poverty Count - Black\"]-oakland_grouped[\"Poverty Count - White\"]),\n",
    "                       label=label,bottom=oakland_grouped[\"Poverty Count - White\"],color='r')\n",
    "line2 = plt.bar(xaxis,oakland_grouped[\"Poverty Count - Black\"],label=label,bottom=oakland_grouped[\"Poverty Count - White\"],color='b')\n",
    "plt.legend([line1, line2,line3],[\"White\",\"Black\",\"Other\"])\n",
    "plt.xlabel(\"Zipcode\")\n",
    "plt.ylabel(\"Individuals in Poverty\")\n",
    "plt.title(\"Median Poverty Counts in Oakland County from 2011-2020\")\n",
    "plt.savefig(\"output_data/poverty_Oakland.png\")\n",
    "plt.show()"
   ]
  },
  {
   "cell_type": "code",
   "execution_count": null,
   "id": "4e8235ce",
   "metadata": {},
   "outputs": [],
   "source": [
    "def time_analyses_stacked(df,col1,col2,col_total,labels,county):\n",
    "    for zipcode in df[\"Zipcode\"].unique():\n",
    "        max_y = 1.1*(df[col_total].max())\n",
    "        filtered = df.loc[df[\"Zipcode\"] == zipcode]\n",
    "        filtered = filtered.sort_values(by=[\"Zipcode\",\"Year\"])\n",
    "        filtered[\"Other\"] = filtered[col_total]-filtered[col1]-filtered[col2]\n",
    "        \n",
    "        fig = plt.figure(figsize = (15,8))\n",
    "        line1 = plt.bar(filtered[\"Year\"],filtered[col2],color='c')\n",
    "        line3 = plt.bar(filtered[\"Year\"],filtered[\"Other\"],bottom=filtered[col2],color='r')\n",
    "        line2 = plt.bar(filtered[\"Year\"],filtered[col1],bottom=filtered[col2],color='b')\n",
    "        plt.legend([line1, line2,line3],labels)\n",
    "        plt.xlabel(\"Year\")\n",
    "        plt.ylabel(col_total)\n",
    "        ax.set(ylim = [0, max_y])\n",
    "        plt.title(col_total + \" in \"  + str(zipcode) + \", \" + county + \" County from 2011-2020\")\n",
    "        plt.savefig(f\"output_data/zipcode_graphs/{county}_{col_total}_{str(zipcode)}\")\n",
    "        plt.show()"
   ]
  },
  {
   "cell_type": "code",
   "execution_count": null,
   "id": "12612530",
   "metadata": {
    "scrolled": true
   },
   "outputs": [],
   "source": [
    "# Time analyses for poverty\n",
    "fig = plt.figure(figsize = (7,4))\n",
    "time_analyses_stacked(oakland_data,\"Poverty Count - White\",\"Poverty Count - Black\", \n",
    "                      \"Poverty Count\",[\"White\",\"Black\",\"Other\"],\"Oakland\")"
   ]
  },
  {
   "cell_type": "code",
   "execution_count": null,
   "id": "30916377",
   "metadata": {},
   "outputs": [],
   "source": [
    "# Time analyses for population\n",
    "time_analyses_stacked(oakland_data,\"White Population\",\"Black Population\", \n",
    "                      \"Total Population\",[\"White\",\"Black\",\"Other\"],\"Oakland\")"
   ]
  },
  {
   "cell_type": "code",
   "execution_count": null,
   "id": "18804f53",
   "metadata": {},
   "outputs": [],
   "source": [
    "# Create initial plot\n",
    "fig = plt.figure(figsize = (15,8))\n",
    "# Blank lists for different values\n",
    "r_values=[]\n",
    "zipcodes=[]\n",
    "slopes=[]\n",
    "y_ints= []\n",
    "# Calculate regression equations for all zipcodes\n",
    "for zipcode in oakland_data[\"Zipcode\"].unique():\n",
    "    filtered = oakland_data.loc[oakland_data[\"Zipcode\"] == zipcode]\n",
    "    filtered = filtered.sort_values(by=[\"Zipcode\",\"Year\"])\n",
    "    x = filtered[\"Year\"]\n",
    "    y = filtered[\"Total Population\"]\n",
    "    \n",
    "    plt_slope,plt_int,plt_r,plt_p,plt_std_err = linregress(x,y)\n",
    "    r_values.append(plt_r)\n",
    "    zipcodes.append(zipcode)\n",
    "    slopes.append(plt_slope)\n",
    "    y_ints.append(plt_int)\n",
    "# Limit the number of zipcodes to those with the most change and plot those\n",
    "equations_df = pd.DataFrame({\"Zipcode\":zipcodes,\"R\":r_values,\"Slope\":slopes,\"Y-intercept\":y_ints})\n",
    "equations_df = equations_df.loc[(abs(equations_df[\"R\"]) > .7) & (abs(equations_df[\"Slope\"])> 300)]\n",
    "equations_df = pd.merge(equations_df,oakland_data,on=\"Zipcode\",how=\"left\")\n",
    "equations_df = equations_df.sort_values(by=[\"Zipcode\",\"Year\"])\n",
    "ann = 34000\n",
    "for zipcode in equations_df[\"Zipcode\"].unique():\n",
    "    filtered_list = equations_df.loc[equations_df[\"Zipcode\"]== zipcode]\n",
    "    x = filtered_list[\"Year\"]\n",
    "    y = filtered_list[\"Total Population\"]\n",
    "    plt.plot(x,y)\n",
    "    plt.legend(equations_df[\"Zipcode\"].unique(),loc=1)    \n",
    "    plt.annotate(f\"{zipcode}: y={round((filtered_list['Slope'].mean()),2)}x + {round((filtered_list['Y-intercept'].mean()),2)} R = {round((filtered_list['R'].mean()),2)}\", xy=(2019,ann))\n",
    "    ann -= 1200\n",
    "plt.title(\"Population in Oakland County\")\n",
    "plt.xlabel(\"Year\")\n",
    "plt.ylabel(\"Individuals\")\n",
    "plt.savefig(\"output_data/linregress_population_Oakland.png\")\n",
    "plt.show()"
   ]
  },
  {
   "cell_type": "code",
   "execution_count": null,
   "id": "35675690",
   "metadata": {
    "scrolled": true
   },
   "outputs": [],
   "source": [
    "# Create initial plot\n",
    "fig = plt.figure(figsize = (15,8))\n",
    "# Blank lists for different values\n",
    "r_values2=[]\n",
    "zipcodes2=[]\n",
    "slopes2=[]\n",
    "y_ints2= []\n",
    "# Calculate regression equations for all zipcodes\n",
    "for zipcode in oakland_data[\"Zipcode\"].unique():\n",
    "    filtered = oakland_data.loc[oakland_data[\"Zipcode\"] == zipcode]\n",
    "    filtered = filtered.sort_values(by=[\"Zipcode\",\"Year\"])\n",
    "    x = filtered[\"Year\"]\n",
    "    y = filtered[\"Poverty Count\"]\n",
    "    \n",
    "    plt_slope,plt_int,plt_r,plt_p,plt_std_err = linregress(x,y)\n",
    "    r_values2.append(plt_r)\n",
    "    zipcodes2.append(zipcode)\n",
    "    slopes2.append(plt_slope)\n",
    "    y_ints2.append(plt_int)\n",
    "\n",
    "# Limit the number of zipcodes to those with the most change and plot those\n",
    "equations2_df = pd.DataFrame({\"Zipcode\":zipcodes2,\"R\":r_values2,\"Slope\":slopes2,\"Y-intercept\":y_ints2})\n",
    "equations2_df = equations2_df.loc[(abs(equations2_df[\"R\"]) > .9) & (abs(equations2_df[\"Slope\"])> 50)]\n",
    "equations2_df = pd.merge(equations2_df,oakland_data,on=\"Zipcode\",how=\"left\")\n",
    "equations2_df = equations2_df.sort_values(by=[\"Zipcode\",\"Year\"])\n",
    "# equations_df\n",
    "ann = 4000\n",
    "for zipcode in equations2_df[\"Zipcode\"].unique():\n",
    "    filtered_list = equations2_df.loc[equations2_df[\"Zipcode\"]== zipcode]\n",
    "    x = filtered_list[\"Year\"]\n",
    "    y = filtered_list[\"Poverty Count\"]\n",
    "    plt.plot(x,y)\n",
    "    plt.legend(equations2_df[\"Zipcode\"].unique(),loc=1)    \n",
    "    plt.annotate(f\"{zipcode}: y={round((filtered_list['Slope'].mean()),2)}x + {round((filtered_list['Y-intercept'].mean()),2)} R = {round((filtered_list['R'].mean()),2)}\", xy=(2019,ann))\n",
    "    ann -= 200\n",
    "plt.title(\"Poverty Rates in Oakland County\")\n",
    "plt.xlabel(\"Year\")\n",
    "plt.ylabel(\"Individuals in Poverty\")\n",
    "plt.savefig(\"output_data/linregress_poverty_Oakland.png\")\n",
    "plt.show()"
   ]
  },
  {
   "cell_type": "code",
   "execution_count": null,
   "id": "251310e4",
   "metadata": {},
   "outputs": [],
   "source": [
    "# Create initial plot\n",
    "fig = plt.figure(figsize = (15,8))\n",
    "# Blank lists for different values\n",
    "r_values=[]\n",
    "zipcodes=[]\n",
    "slopes=[]\n",
    "y_ints= []\n",
    "# Calculate regression equations for all zipcodes\n",
    "for zipcode in oakland_data[\"Zipcode\"].unique():\n",
    "    filtered = oakland_data.loc[oakland_data[\"Zipcode\"] == zipcode]\n",
    "    filtered = filtered.sort_values(by=[\"Zipcode\",\"Year\"])\n",
    "    x = filtered[\"Year\"]\n",
    "    y = filtered[\"% Unemployed\"]\n",
    "    \n",
    "    plt_slope,plt_int,plt_r,plt_p,plt_std_err = linregress(x,y)\n",
    "    r_values.append(plt_r)\n",
    "    zipcodes.append(zipcode)\n",
    "    slopes.append(plt_slope)\n",
    "    y_ints.append(plt_int)\n",
    "# Limit the number of zipcodes to those with the most change and plot those\n",
    "equations_df = pd.DataFrame({\"Zipcode\":zipcodes,\"R\":r_values,\"Slope\":slopes,\"Y-intercept\":y_ints})\n",
    "equations_df = equations_df.loc[(abs(equations_df[\"R\"]) > .7) & (abs(equations_df[\"Slope\"])> .75)]\n",
    "equations_df = pd.merge(equations_df,oakland_data,on=\"Zipcode\",how=\"left\")\n",
    "equations_df = equations_df.sort_values(by=[\"Zipcode\",\"Year\"])\n",
    "ann = 8\n",
    "for zipcode in equations_df[\"Zipcode\"].unique():\n",
    "    filtered_list = equations_df.loc[equations_df[\"Zipcode\"]== zipcode]\n",
    "    x = filtered_list[\"Year\"]\n",
    "    y = filtered_list[\"% Unemployed\"]\n",
    "    plt.plot(x,y)\n",
    "    plt.legend(equations_df[\"Zipcode\"].unique(),loc=1)    \n",
    "    plt.annotate(f\"{zipcode}: y={round((filtered_list['Slope'].mean()),2)}x + {round((filtered_list['Y-intercept'].mean()),2)} R = {round((filtered_list['R'].mean()),2)}\", xy=(2019,ann))\n",
    "    ann -= 1\n",
    "plt.title(\"Unemployment Rate in Oakland County\")\n",
    "plt.xlabel(\"Year\")\n",
    "plt.ylabel(\"% Unemployed\")\n",
    "plt.savefig(\"output_data/linregress_unemployment_Oakland.png\")\n",
    "plt.show()"
   ]
  },
  {
   "cell_type": "markdown",
   "id": "6d4a732a",
   "metadata": {},
   "source": [
    "## Kent County Analyses"
   ]
  },
  {
   "cell_type": "code",
   "execution_count": null,
   "id": "793ee134",
   "metadata": {
    "scrolled": false
   },
   "outputs": [],
   "source": [
    "# Stacked bar chart for population by county\n",
    "\n",
    "fig = plt.figure(figsize = (15,8))\n",
    "xaxis = np.arange(0,len(kent_grouped.index))\n",
    "label = (kent_grouped.index.tolist())\n",
    "line1 = plt.bar(xaxis,kent_grouped[\"White Population\"],color='c',label=\"\")\n",
    "plt.xticks(ticks=xaxis,labels=label,rotation=90)\n",
    "line3 = plt.bar(xaxis,(kent_grouped[\"Total Population\"]-kent_grouped[\"Black Population\"]-kent_grouped[\"White Population\"]),\n",
    "                       label=label,bottom=kent_grouped[\"White Population\"],color='r')\n",
    "line2 = plt.bar(xaxis,kent_grouped[\"Black Population\"],label=label,bottom=kent_grouped[\"White Population\"],color='b')\n",
    "plt.legend([line1, line2,line3],[\"White\",\"Black\",\"Other\"])\n",
    "plt.xlabel(\"Zipcode\")\n",
    "plt.ylabel(\"Population\")\n",
    "plt.title(\"Median Populations in Kent County from 2011-2020\")\n",
    "plt.savefig(\"output_data/populations_Kent.png\")\n",
    "plt.show()\n"
   ]
  },
  {
   "cell_type": "code",
   "execution_count": null,
   "id": "db919b55",
   "metadata": {
    "scrolled": true
   },
   "outputs": [],
   "source": [
    "# Stacked bar chart for poverty rates\n",
    "fig = plt.figure(figsize = (15,8))\n",
    "xaxis = np.arange(0,len(kent_grouped.index))\n",
    "label = (kent_grouped.index.tolist())\n",
    "line1 = plt.bar(xaxis,kent_grouped[\"Poverty Count - White\"],color='c',label=\"\")\n",
    "plt.xticks(ticks=xaxis,labels=label,rotation=90)\n",
    "line3 = plt.bar(xaxis,(kent_grouped[\"Poverty Count\"]-kent_grouped[\"Poverty Count - Black\"]-kent_grouped[\"Poverty Count - White\"]),\n",
    "                       label=label,bottom=kent_grouped[\"Poverty Count - White\"],color='r')\n",
    "line2 = plt.bar(xaxis,kent_grouped[\"Poverty Count - Black\"],label=label,bottom=kent_grouped[\"Poverty Count - White\"],color='b')\n",
    "plt.legend([line1, line2,line3],[\"White\",\"Black\",\"Other\"])\n",
    "plt.xlabel(\"Zipcode\")\n",
    "plt.ylabel(\"Individuals in Poverty\")\n",
    "plt.title(\"Median Poverty Counts in Kent County from 2011-2020\")\n",
    "plt.savefig(\"output_data/poverty_Kent.png\")\n",
    "plt.show()"
   ]
  },
  {
   "cell_type": "code",
   "execution_count": null,
   "id": "3ada109f",
   "metadata": {
    "scrolled": true
   },
   "outputs": [],
   "source": [
    "# Time analyses for poverty\n",
    "fig = plt.figure(figsize = (7,4))\n",
    "time_analyses_stacked(kent_data,\"Poverty Count - White\",\"Poverty Count - Black\", \n",
    "                      \"Poverty Count\",[\"White\",\"Black\",\"Other\"],\"Kent\")"
   ]
  },
  {
   "cell_type": "code",
   "execution_count": null,
   "id": "f3054c24",
   "metadata": {},
   "outputs": [],
   "source": [
    "# Time analyses for population\n",
    "time_analyses_stacked(kent_data,\"White Population\",\"Black Population\", \n",
    "                      \"Total Population\",[\"White\",\"Black\",\"Other\"],\"Kent\")"
   ]
  },
  {
   "cell_type": "code",
   "execution_count": null,
   "id": "9f42319c",
   "metadata": {},
   "outputs": [],
   "source": [
    "# Create initial plot ---Population\n",
    "fig = plt.figure(figsize = (15,8))\n",
    "# Blank lists for different values\n",
    "r_values=[]\n",
    "zipcodes=[]\n",
    "slopes=[]\n",
    "y_ints= []\n",
    "# Calculate regression equations for all zipcodes\n",
    "for zipcode in kent_data[\"Zipcode\"].unique():\n",
    "    filtered = kent_data.loc[kent_data[\"Zipcode\"] == zipcode]\n",
    "    filtered = filtered.sort_values(by=[\"Zipcode\",\"Year\"])\n",
    "    x = filtered[\"Year\"]\n",
    "    y = filtered[\"Total Population\"]\n",
    "    \n",
    "    plt_slope,plt_int,plt_r,plt_p,plt_std_err = linregress(x,y)\n",
    "    r_values.append(plt_r)\n",
    "    zipcodes.append(zipcode)\n",
    "    slopes.append(plt_slope)\n",
    "    y_ints.append(plt_int)\n",
    "# Limit the number of zipcodes to those with the most change and plot those\n",
    "equations_df = pd.DataFrame({\"Zipcode\":zipcodes,\"R\":r_values,\"Slope\":slopes,\"Y-intercept\":y_ints})\n",
    "equations_df = equations_df.loc[(abs(equations_df[\"R\"]) > .7) & (abs(equations_df[\"Slope\"])> 400)]\n",
    "equations_df = pd.merge(equations_df,kent_data,on=\"Zipcode\",how=\"left\")\n",
    "equations_df = equations_df.sort_values(by=[\"Zipcode\",\"Year\"])\n",
    "ann = 27500\n",
    "for zipcode in equations_df[\"Zipcode\"].unique():\n",
    "    filtered_list = equations_df.loc[equations_df[\"Zipcode\"]== zipcode]\n",
    "    x = filtered_list[\"Year\"]\n",
    "    y = filtered_list[\"Total Population\"]\n",
    "    plt.plot(x,y)\n",
    "    plt.legend(equations_df[\"Zipcode\"].unique(),loc=1)    \n",
    "    plt.annotate(f\"{zipcode}: y={round((filtered_list['Slope'].mean()),2)}x + {round((filtered_list['Y-intercept'].mean()),2)} R = {round((filtered_list['R'].mean()),2)}\", xy=(2019,ann))\n",
    "    ann -= 1200\n",
    "plt.title(\"Population in Kent County\")\n",
    "plt.xlabel(\"Year\")\n",
    "plt.ylabel(\"Individuals\")\n",
    "plt.savefig(\"output_data/linregress_population_Kent.png\")\n",
    "plt.show()"
   ]
  },
  {
   "cell_type": "code",
   "execution_count": null,
   "id": "eae1d26b",
   "metadata": {},
   "outputs": [],
   "source": [
    "# Create initial plot ---Poverty\n",
    "fig = plt.figure(figsize = (15,8))\n",
    "# Blank lists for different values\n",
    "r_values2=[]\n",
    "zipcodes2=[]\n",
    "slopes2=[]\n",
    "y_ints2= []\n",
    "# Calculate regression equations for all zipcodes\n",
    "for zipcode in kent_data[\"Zipcode\"].unique():\n",
    "    filtered = kent_data.loc[kent_data[\"Zipcode\"] == zipcode]\n",
    "    filtered = filtered.sort_values(by=[\"Zipcode\",\"Year\"])\n",
    "    x = filtered[\"Year\"]\n",
    "    y = filtered[\"Poverty Count\"]\n",
    "    \n",
    "    plt_slope,plt_int,plt_r,plt_p,plt_std_err = linregress(x,y)\n",
    "    r_values2.append(plt_r)\n",
    "    zipcodes2.append(zipcode)\n",
    "    slopes2.append(plt_slope)\n",
    "    y_ints2.append(plt_int)\n",
    "\n",
    "# Limit the number of zipcodes to those with the most change and plot those\n",
    "equations2_df = pd.DataFrame({\"Zipcode\":zipcodes2,\"R\":r_values2,\"Slope\":slopes2,\"Y-intercept\":y_ints2})\n",
    "equations2_df = equations2_df.loc[(abs(equations2_df[\"R\"]) > .85) & (abs(equations2_df[\"Slope\"])> 40)]\n",
    "equations2_df = pd.merge(equations2_df,kent_data,on=\"Zipcode\",how=\"left\")\n",
    "equations2_df = equations2_df.sort_values(by=[\"Zipcode\",\"Year\"])\n",
    "# equations_df\n",
    "ann = 6000\n",
    "for zipcode in equations2_df[\"Zipcode\"].unique():\n",
    "    filtered_list = equations2_df.loc[equations2_df[\"Zipcode\"]== zipcode]\n",
    "    x = filtered_list[\"Year\"]\n",
    "    y = filtered_list[\"Poverty Count\"]\n",
    "    plt.plot(x,y)\n",
    "    plt.legend(equations2_df[\"Zipcode\"].unique(),loc=1)    \n",
    "    plt.annotate(f\"{zipcode}: y={round((filtered_list['Slope'].mean()),2)}x + {round((filtered_list['Y-intercept'].mean()),2)} R = {round((filtered_list['R'].mean()),2)}\", xy=(2019,ann))\n",
    "    ann -= 350\n",
    "plt.title(\"Poverty Rates in Kent County\")\n",
    "plt.xlabel(\"Year\")\n",
    "plt.ylabel(\"Individuals in Poverty\")\n",
    "plt.savefig(\"output_data/linregress_poverty_Kent.png\")\n",
    "plt.show()"
   ]
  },
  {
   "cell_type": "code",
   "execution_count": null,
   "id": "c79bcf18",
   "metadata": {},
   "outputs": [],
   "source": [
    "# Create initial plot --Unemployment\n",
    "fig = plt.figure(figsize = (15,8))\n",
    "# Blank lists for different values\n",
    "r_values=[]\n",
    "zipcodes=[]\n",
    "slopes=[]\n",
    "y_ints= []\n",
    "# Calculate regression equations for all zipcodes\n",
    "for zipcode in kent_data[\"Zipcode\"].unique():\n",
    "    filtered = kent_data.loc[kent_data[\"Zipcode\"] == zipcode]\n",
    "    filtered = filtered.sort_values(by=[\"Zipcode\",\"Year\"])\n",
    "    x = filtered[\"Year\"]\n",
    "    y = filtered[\"% Unemployed\"]\n",
    "    \n",
    "    plt_slope,plt_int,plt_r,plt_p,plt_std_err = linregress(x,y)\n",
    "    r_values.append(plt_r)\n",
    "    zipcodes.append(zipcode)\n",
    "    slopes.append(plt_slope)\n",
    "    y_ints.append(plt_int)\n",
    "# Limit the number of zipcodes to those with the most change and plot those\n",
    "equations_df = pd.DataFrame({\"Zipcode\":zipcodes,\"R\":r_values,\"Slope\":slopes,\"Y-intercept\":y_ints})\n",
    "equations_df = equations_df.loc[(abs(equations_df[\"R\"]) > .7) & (abs(equations_df[\"Slope\"])> .58)]\n",
    "equations_df = pd.merge(equations_df,kent_data,on=\"Zipcode\",how=\"left\")\n",
    "equations_df = equations_df.sort_values(by=[\"Zipcode\",\"Year\"])\n",
    "ann = 8\n",
    "for zipcode in equations_df[\"Zipcode\"].unique():\n",
    "    filtered_list = equations_df.loc[equations_df[\"Zipcode\"]== zipcode]\n",
    "    x = filtered_list[\"Year\"]\n",
    "    y = filtered_list[\"% Unemployed\"]\n",
    "    plt.plot(x,y)\n",
    "    plt.legend(equations_df[\"Zipcode\"].unique(),loc=1)    \n",
    "    plt.annotate(f\"{zipcode}: y={round((filtered_list['Slope'].mean()),2)}x + {round((filtered_list['Y-intercept'].mean()),2)} R = {round((filtered_list['R'].mean()),2)}\", xy=(2019,ann))\n",
    "    ann -= 1\n",
    "plt.title(\"Unemployment Rate in Kent County\")\n",
    "plt.xlabel(\"Year\")\n",
    "plt.ylabel(\"% Unemployed\")\n",
    "plt.savefig(\"output_data/linregress_unemployment_Kent.png\")\n",
    "plt.show()"
   ]
  },
  {
   "cell_type": "markdown",
   "id": "c4b02697",
   "metadata": {},
   "source": [
    "## Saginaw County Analyses"
   ]
  },
  {
   "cell_type": "code",
   "execution_count": null,
   "id": "c02d51ce",
   "metadata": {
    "scrolled": false
   },
   "outputs": [],
   "source": [
    "# Stacked bar chart for population by county\n",
    "\n",
    "fig = plt.figure(figsize = (15,8))\n",
    "xaxis = np.arange(0,len(saginaw_grouped.index))\n",
    "label = (saginaw_grouped.index.tolist())\n",
    "line1 = plt.bar(xaxis,saginaw_grouped[\"White Population\"],color='c',label=\"\")\n",
    "plt.xticks(ticks=xaxis,labels=label,rotation=90)\n",
    "line3 = plt.bar(xaxis,(saginaw_grouped[\"Total Population\"]-saginaw_grouped[\"Black Population\"]-saginaw_grouped[\"White Population\"]),\n",
    "                       label=label,bottom=saginaw_grouped[\"White Population\"],color='r')\n",
    "line2 = plt.bar(xaxis,saginaw_grouped[\"Black Population\"],label=label,bottom=saginaw_grouped[\"White Population\"],color='b')\n",
    "plt.legend([line1, line2,line3],[\"White\",\"Black\",\"Other\"])\n",
    "plt.xlabel(\"Zipcode\")\n",
    "plt.ylabel(\"Population\")\n",
    "plt.title(\"Median Populations in Saginaw County from 2011-2020\")\n",
    "plt.savefig(\"output_data/populations_Saginaw.png\")\n",
    "plt.show()"
   ]
  },
  {
   "cell_type": "code",
   "execution_count": null,
   "id": "7354808e",
   "metadata": {
    "scrolled": true
   },
   "outputs": [],
   "source": [
    "# Stacked bar chart for poverty rates\n",
    "fig = plt.figure(figsize = (15,8))\n",
    "xaxis = np.arange(0,len(saginaw_grouped.index))\n",
    "label = (saginaw_grouped.index.tolist())\n",
    "line1 = plt.bar(xaxis,saginaw_grouped[\"Poverty Count - White\"],color='c',label=\"\")\n",
    "plt.xticks(ticks=xaxis,labels=label,rotation=90)\n",
    "line3 = plt.bar(xaxis,(saginaw_grouped[\"Poverty Count\"]-saginaw_grouped[\"Poverty Count - Black\"]-saginaw_grouped[\"Poverty Count - White\"]),\n",
    "                       label=label,bottom=saginaw_grouped[\"Poverty Count - White\"],color='r')\n",
    "line2 = plt.bar(xaxis,saginaw_grouped[\"Poverty Count - Black\"],label=label,bottom=saginaw_grouped[\"Poverty Count - White\"],color='b')\n",
    "plt.legend([line1, line2,line3],[\"White\",\"Black\",\"Other\"])\n",
    "plt.xlabel(\"Zipcode\")\n",
    "plt.ylabel(\"Individuals in Poverty\")\n",
    "plt.title(\"Median Poverty Counts in Saginaw County from 2011-2020\")\n",
    "plt.savefig(\"output_data/poverty_Saginaw.png\")\n",
    "plt.show()"
   ]
  },
  {
   "cell_type": "code",
   "execution_count": null,
   "id": "7e2a170c",
   "metadata": {
    "scrolled": true
   },
   "outputs": [],
   "source": [
    "# Time analyses for poverty\n",
    "fig = plt.figure(figsize = (7,4))\n",
    "time_analyses_stacked(saginaw_data,\"Poverty Count - White\",\"Poverty Count - Black\", \n",
    "                      \"Poverty Count\",[\"White\",\"Black\",\"Other\"],\"Saginaw\")"
   ]
  },
  {
   "cell_type": "code",
   "execution_count": null,
   "id": "d7b9347c",
   "metadata": {},
   "outputs": [],
   "source": [
    "# Time analyses for population\n",
    "time_analyses_stacked(saginaw_data,\"White Population\",\"Black Population\", \n",
    "                      \"Total Population\",[\"White\",\"Black\",\"Other\"],\"Saginaw\")"
   ]
  },
  {
   "cell_type": "code",
   "execution_count": null,
   "id": "68491d91",
   "metadata": {},
   "outputs": [],
   "source": [
    "# Create initial plot ---Population\n",
    "fig = plt.figure(figsize = (15,8))\n",
    "# Blank lists for different values\n",
    "r_values=[]\n",
    "zipcodes=[]\n",
    "slopes=[]\n",
    "y_ints= []\n",
    "# Calculate regression equations for all zipcodes\n",
    "for zipcode in saginaw_data[\"Zipcode\"].unique():\n",
    "    filtered = saginaw_data.loc[saginaw_data[\"Zipcode\"] == zipcode]\n",
    "    filtered = filtered.sort_values(by=[\"Zipcode\",\"Year\"])\n",
    "    x = filtered[\"Year\"]\n",
    "    y = filtered[\"Total Population\"]\n",
    "    \n",
    "    plt_slope,plt_int,plt_r,plt_p,plt_std_err = linregress(x,y)\n",
    "    r_values.append(plt_r)\n",
    "    zipcodes.append(zipcode)\n",
    "    slopes.append(plt_slope)\n",
    "    y_ints.append(plt_int)\n",
    "# Limit the number of zipcodes to those with the most change and plot those\n",
    "equations_df = pd.DataFrame({\"Zipcode\":zipcodes,\"R\":r_values,\"Slope\":slopes,\"Y-intercept\":y_ints})\n",
    "equations_df = equations_df.loc[(abs(equations_df[\"R\"]) > .8) & (abs(equations_df[\"Slope\"])> 80)]\n",
    "equations_df = pd.merge(equations_df,saginaw_data,on=\"Zipcode\",how=\"left\")\n",
    "equations_df = equations_df.sort_values(by=[\"Zipcode\",\"Year\"])\n",
    "ann = 27500\n",
    "for zipcode in equations_df[\"Zipcode\"].unique():\n",
    "    filtered_list = equations_df.loc[equations_df[\"Zipcode\"]== zipcode]\n",
    "    x = filtered_list[\"Year\"]\n",
    "    y = filtered_list[\"Total Population\"]\n",
    "    plt.plot(x,y)\n",
    "    plt.legend(equations_df[\"Zipcode\"].unique(),loc=1)    \n",
    "    plt.annotate(f\"{zipcode}: y={round((filtered_list['Slope'].mean()),2)}x + {round((filtered_list['Y-intercept'].mean()),2)} R = {round((filtered_list['R'].mean()),2)}\", xy=(2019,ann))\n",
    "    ann -= 1200\n",
    "plt.title(\"Population in Saginaw County\")\n",
    "plt.xlabel(\"Year\")\n",
    "plt.ylabel(\"Individuals\")\n",
    "plt.savefig(\"output_data/linregress_population_Saginaw.png\")\n",
    "plt.show()"
   ]
  },
  {
   "cell_type": "code",
   "execution_count": null,
   "id": "234643ad",
   "metadata": {},
   "outputs": [],
   "source": [
    "# Create initial plot ---Poverty\n",
    "fig = plt.figure(figsize = (15,8))\n",
    "# Blank lists for different values\n",
    "r_values2=[]\n",
    "zipcodes2=[]\n",
    "slopes2=[]\n",
    "y_ints2= []\n",
    "# Calculate regression equations for all zipcodes\n",
    "for zipcode in saginaw_data[\"Zipcode\"].unique():\n",
    "    filtered = saginaw_data.loc[saginaw_data[\"Zipcode\"] == zipcode]\n",
    "    filtered = filtered.sort_values(by=[\"Zipcode\",\"Year\"])\n",
    "    x = filtered[\"Year\"]\n",
    "    y = filtered[\"Poverty Count\"]\n",
    "    \n",
    "    plt_slope,plt_int,plt_r,plt_p,plt_std_err = linregress(x,y)\n",
    "    r_values2.append(plt_r)\n",
    "    zipcodes2.append(zipcode)\n",
    "    slopes2.append(plt_slope)\n",
    "    y_ints2.append(plt_int)\n",
    "\n",
    "# Limit the number of zipcodes to those with the most change and plot those\n",
    "equations2_df = pd.DataFrame({\"Zipcode\":zipcodes2,\"R\":r_values2,\"Slope\":slopes2,\"Y-intercept\":y_ints2})\n",
    "equations2_df = equations2_df.loc[(abs(equations2_df[\"R\"]) > .7) & (abs(equations2_df[\"Slope\"])> 25)]\n",
    "equations2_df = pd.merge(equations2_df,saginaw_data,on=\"Zipcode\",how=\"left\")\n",
    "equations2_df = equations2_df.sort_values(by=[\"Zipcode\",\"Year\"])\n",
    "# equations_df\n",
    "ann = 6000\n",
    "for zipcode in equations2_df[\"Zipcode\"].unique():\n",
    "    filtered_list = equations2_df.loc[equations2_df[\"Zipcode\"]== zipcode]\n",
    "    x = filtered_list[\"Year\"]\n",
    "    y = filtered_list[\"Poverty Count\"]\n",
    "    plt.plot(x,y)\n",
    "    plt.legend(equations2_df[\"Zipcode\"].unique(),loc=1)    \n",
    "    plt.annotate(f\"{zipcode}: y={round((filtered_list['Slope'].mean()),2)}x + {round((filtered_list['Y-intercept'].mean()),2)} R = {round((filtered_list['R'].mean()),2)}\", xy=(2019,ann))\n",
    "    ann -= 400\n",
    "plt.title(\"Poverty Rates in Saginaw County\")\n",
    "plt.xlabel(\"Year\")\n",
    "plt.ylabel(\"Individuals in Poverty\")\n",
    "plt.savefig(\"output_data/linregress_poverty_Saginaw.png\")\n",
    "plt.show()"
   ]
  },
  {
   "cell_type": "code",
   "execution_count": null,
   "id": "3d6087be",
   "metadata": {},
   "outputs": [],
   "source": [
    "# Create initial plot --Unemployment\n",
    "fig = plt.figure(figsize = (15,8))\n",
    "# Blank lists for different values\n",
    "r_values=[]\n",
    "zipcodes=[]\n",
    "slopes=[]\n",
    "y_ints= []\n",
    "# Calculate regression equations for all zipcodes\n",
    "for zipcode in saginaw_data[\"Zipcode\"].unique():\n",
    "    filtered = saginaw_data.loc[saginaw_data[\"Zipcode\"] == zipcode]\n",
    "    filtered = filtered.sort_values(by=[\"Zipcode\",\"Year\"])\n",
    "    x = filtered[\"Year\"]\n",
    "    y = filtered[\"% Unemployed\"]\n",
    "    \n",
    "    plt_slope,plt_int,plt_r,plt_p,plt_std_err = linregress(x,y)\n",
    "    r_values.append(plt_r)\n",
    "    zipcodes.append(zipcode)\n",
    "    slopes.append(plt_slope)\n",
    "    y_ints.append(plt_int)\n",
    "# Limit the number of zipcodes to those with the most change and plot those\n",
    "equations_df = pd.DataFrame({\"Zipcode\":zipcodes,\"R\":r_values,\"Slope\":slopes,\"Y-intercept\":y_ints})\n",
    "equations_df = equations_df.loc[(abs(equations_df[\"R\"]) > .7) & (abs(equations_df[\"Slope\"])> .55)]\n",
    "equations_df = pd.merge(equations_df,saginaw_data,on=\"Zipcode\",how=\"left\")\n",
    "equations_df = equations_df.sort_values(by=[\"Zipcode\",\"Year\"])\n",
    "ann = 8\n",
    "for zipcode in equations_df[\"Zipcode\"].unique():\n",
    "    filtered_list = equations_df.loc[equations_df[\"Zipcode\"]== zipcode]\n",
    "    x = filtered_list[\"Year\"]\n",
    "    y = filtered_list[\"% Unemployed\"]\n",
    "    plt.plot(x,y)\n",
    "    plt.legend(equations_df[\"Zipcode\"].unique(),loc=1)    \n",
    "    plt.annotate(f\"{zipcode}: y={round((filtered_list['Slope'].mean()),2)}x + {round((filtered_list['Y-intercept'].mean()),2)} R = {round((filtered_list['R'].mean()),2)}\", xy=(2019,ann))\n",
    "    ann -= 1\n",
    "plt.title(\"Unemployment Rate in Saginaw County\")\n",
    "plt.xlabel(\"Year\")\n",
    "plt.ylabel(\"% Unemployed\")\n",
    "plt.savefig(\"output_data/linregress_unemployment_Saginaw.png\")\n",
    "plt.show()"
   ]
  },
  {
   "cell_type": "code",
   "execution_count": null,
   "id": "73c03e7a",
   "metadata": {},
   "outputs": [],
   "source": []
  },
  {
   "cell_type": "markdown",
   "id": "a59fb3a3",
   "metadata": {},
   "source": [
    "# Combination Visualizations"
   ]
  }
 ],
 "metadata": {
  "kernelspec": {
   "display_name": "PythonData2",
   "language": "python",
   "name": "pythondata2"
  },
  "language_info": {
   "codemirror_mode": {
    "name": "ipython",
    "version": 3
   },
   "file_extension": ".py",
   "mimetype": "text/x-python",
   "name": "python",
   "nbconvert_exporter": "python",
   "pygments_lexer": "ipython3",
   "version": "3.7.7"
  }
 },
 "nbformat": 4,
 "nbformat_minor": 5
}
