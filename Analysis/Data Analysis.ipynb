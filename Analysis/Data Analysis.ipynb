{
 "cells": [
  {
   "cell_type": "code",
   "execution_count": null,
   "id": "a5f44f43",
   "metadata": {},
   "outputs": [],
   "source": [
    "# Import dependencies"
   ]
  },
  {
   "cell_type": "code",
   "execution_count": null,
   "id": "d3897dcb",
   "metadata": {},
   "outputs": [],
   "source": [
    "# Read CSV"
   ]
  },
  {
   "cell_type": "code",
   "execution_count": null,
   "id": "6dfb14dc",
   "metadata": {},
   "outputs": [],
   "source": [
    "# Create column in DF for ratios of White/Black population and poverty counts AND employed / unemployed\n",
    "###Rhi###"
   ]
  },
  {
   "cell_type": "code",
   "execution_count": null,
   "id": "9d9bac4f",
   "metadata": {},
   "outputs": [],
   "source": [
    "# Create summary statistics table with stats for each county (mean / median of each column)"
   ]
  },
  {
   "cell_type": "markdown",
   "id": "0e05c8a8",
   "metadata": {},
   "source": [
    "# Income in Each County, by Zipcode **Jonathan**"
   ]
  },
  {
   "cell_type": "code",
   "execution_count": null,
   "id": "ac50d0b6",
   "metadata": {},
   "outputs": [],
   "source": [
    "# Create scatter plot(s) for Income in each county\n"
   ]
  },
  {
   "cell_type": "code",
   "execution_count": null,
   "id": "e5922ea4",
   "metadata": {},
   "outputs": [],
   "source": [
    "# Calculate the linear regression and correlation for each county's plot\n"
   ]
  },
  {
   "cell_type": "code",
   "execution_count": null,
   "id": "ad5d66c0",
   "metadata": {},
   "outputs": [],
   "source": [
    "# Add the linear regression line to the graph, if it makes sense (|r| > ?)\n"
   ]
  },
  {
   "cell_type": "code",
   "execution_count": null,
   "id": "83de536b",
   "metadata": {},
   "outputs": [],
   "source": [
    "# Export final graph\n"
   ]
  },
  {
   "cell_type": "markdown",
   "id": "4d26d07a",
   "metadata": {},
   "source": [
    "# Home Values in Each County, by Zipcode **Tamica**"
   ]
  },
  {
   "cell_type": "code",
   "execution_count": null,
   "id": "139b578b",
   "metadata": {},
   "outputs": [],
   "source": [
    "# Create scatter plot(s) for Home Values in each county\n"
   ]
  },
  {
   "cell_type": "code",
   "execution_count": null,
   "id": "70626897",
   "metadata": {},
   "outputs": [],
   "source": [
    "# Calculate the linear regression and correlation for each county's plot\n"
   ]
  },
  {
   "cell_type": "code",
   "execution_count": null,
   "id": "04a1649f",
   "metadata": {},
   "outputs": [],
   "source": [
    "# Add the linear regression line to the graph, if it makes sense (|r| > ?)\n"
   ]
  },
  {
   "cell_type": "code",
   "execution_count": null,
   "id": "01f7c658",
   "metadata": {},
   "outputs": [],
   "source": [
    "# Export final graph\n"
   ]
  },
  {
   "cell_type": "markdown",
   "id": "a0c29aa1",
   "metadata": {},
   "source": [
    "# Rent Prices in Each County, by Zipcode **Stephanie**"
   ]
  },
  {
   "cell_type": "code",
   "execution_count": null,
   "id": "c6ee0f20",
   "metadata": {},
   "outputs": [],
   "source": [
    "# Create scatter plot(s) for Rent Prices in each county\n"
   ]
  },
  {
   "cell_type": "code",
   "execution_count": null,
   "id": "b6634501",
   "metadata": {},
   "outputs": [],
   "source": [
    "# Calculate the linear regression and correlation for each county's plot\n"
   ]
  },
  {
   "cell_type": "code",
   "execution_count": null,
   "id": "8baa522a",
   "metadata": {},
   "outputs": [],
   "source": [
    "# Add the linear regression line to the graph, if it makes sense (|r| > ?)\n"
   ]
  },
  {
   "cell_type": "code",
   "execution_count": null,
   "id": "68c87a07",
   "metadata": {},
   "outputs": [],
   "source": [
    "# Export final graph\n"
   ]
  },
  {
   "cell_type": "markdown",
   "id": "aa2bc0be",
   "metadata": {},
   "source": [
    "# Demographic Composition in Each County, by Zipcode **Rhi**"
   ]
  },
  {
   "cell_type": "code",
   "execution_count": null,
   "id": "89762906",
   "metadata": {},
   "outputs": [],
   "source": [
    "# Create scatter plot(s) for total population in each county \n",
    "# also need to do graphs for demographic composition, employment rate, poverty rate\n",
    "# Need to create more filters by year and by zip code within counties\n"
   ]
  },
  {
   "cell_type": "code",
   "execution_count": null,
   "id": "e082bff4",
   "metadata": {},
   "outputs": [],
   "source": [
    "# Calculate the linear regression and correlation for each county's plot\n"
   ]
  },
  {
   "cell_type": "code",
   "execution_count": null,
   "id": "3fd0ea88",
   "metadata": {},
   "outputs": [],
   "source": [
    "# Add the linear regression line to the graph, if it makes sense (|r| > ?)\n"
   ]
  },
  {
   "cell_type": "code",
   "execution_count": null,
   "id": "a48b3216",
   "metadata": {},
   "outputs": [],
   "source": [
    "# Export final graph\n"
   ]
  },
  {
   "cell_type": "markdown",
   "id": "2a87bd07",
   "metadata": {},
   "source": [
    "# Combination Visualizations"
   ]
  },
  {
   "cell_type": "markdown",
   "id": "b5c3a133",
   "metadata": {},
   "source": [
    "# GIF Maps"
   ]
  },
  {
   "cell_type": "code",
   "execution_count": null,
   "id": "4293fe6c",
   "metadata": {},
   "outputs": [],
   "source": [
    "# Relocate needed module and import it (install as well)"
   ]
  },
  {
   "cell_type": "code",
   "execution_count": null,
   "id": "08d7aa39",
   "metadata": {},
   "outputs": [],
   "source": [
    "# Determine what specific visualizations to convert to map GIFs"
   ]
  },
  {
   "cell_type": "code",
   "execution_count": null,
   "id": "38f3e6d9",
   "metadata": {},
   "outputs": [],
   "source": [
    "# Create maps by county, showing individual points per zipcode (heat map)"
   ]
  },
  {
   "cell_type": "code",
   "execution_count": null,
   "id": "7dcc7f97",
   "metadata": {},
   "outputs": [],
   "source": [
    "# Export maps?"
   ]
  }
 ],
 "metadata": {
  "kernelspec": {
   "display_name": "PythonData2",
   "language": "python",
   "name": "pythondata2"
  },
  "language_info": {
   "codemirror_mode": {
    "name": "ipython",
    "version": 3
   },
   "file_extension": ".py",
   "mimetype": "text/x-python",
   "name": "python",
   "nbconvert_exporter": "python",
   "pygments_lexer": "ipython3",
   "version": "3.7.7"
  }
 },
 "nbformat": 4,
 "nbformat_minor": 5
}
