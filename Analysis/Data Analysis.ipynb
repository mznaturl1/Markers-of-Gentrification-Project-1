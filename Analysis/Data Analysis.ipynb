{
 "cells": [
  {
   "cell_type": "code",
   "execution_count": null,
   "id": "d1e0d79b",
   "metadata": {},
   "outputs": [],
   "source": [
    "%matplotlib notebook\n",
    "%matplotlib inline"
   ]
  },
  {
   "cell_type": "code",
   "execution_count": null,
   "id": "93366d0d",
   "metadata": {},
   "outputs": [],
   "source": [
    "# Import dependencies\n",
    "import pandas as pd\n",
    "import matplotlib.pyplot as plt\n",
    "from scipy.stats import linregress\n",
    "from scipy.stats import shapiro"
   ]
  },
  {
   "cell_type": "code",
   "execution_count": null,
   "id": "97f2a31a",
   "metadata": {},
   "outputs": [],
   "source": [
    "# Read CSV\n",
    "csvpath = \"output_data/census.csv\"\n",
    "census_df = pd.read_csv(csvpath,index_col=\"datapoint\")\n",
    "census_df"
   ]
  },
  {
   "cell_type": "code",
   "execution_count": null,
   "id": "59af45a9",
   "metadata": {},
   "outputs": [],
   "source": [
    "# Create column in DF for ratios of White/Black population and poverty counts AND employed / unemployed\n",
    "# for i in census_df.index:\n",
    "#     census_df.at[i,\"% Black Population\"]"
   ]
  },
  {
   "cell_type": "code",
   "execution_count": null,
   "id": "f895fdd9",
   "metadata": {},
   "outputs": [],
   "source": [
    "# Create summary statistics table with stats for each county (mean / median of each column)\n",
    "summary_stats = census_df.describe()\n",
    "summary_stats = summary_stats.drop(columns=['Year', 'Zipcode'])\n",
    "summary_stats"
   ]
  },
  {
   "cell_type": "code",
   "execution_count": null,
   "id": "7af3e7ec",
   "metadata": {},
   "outputs": [],
   "source": [
    "Saginaw_df = census_df.loc[census_df['County'] == 'Saginaw']\n",
    "saginaw_summary = Saginaw_df.describe()\n",
    "saginaw_summary = saginaw_summary.drop(columns=['Year', 'Zipcode'])\n",
    "saginaw_summary"
   ]
  },
  {
   "cell_type": "code",
   "execution_count": null,
   "id": "a1326789",
   "metadata": {},
   "outputs": [],
   "source": [
    "Oakland_df = census_df.loc[census_df['County'] == 'Oakland']\n",
    "oakland_summary = Oakland_df.describe()\n",
    "oakland_summary = oakland_summary.drop(columns=['Year', 'Zipcode'])\n",
    "oakland_summary"
   ]
  },
  {
   "cell_type": "code",
   "execution_count": null,
   "id": "90f46e95",
   "metadata": {},
   "outputs": [],
   "source": [
    "Kent_df = census_df.loc[census_df['County'] == 'Kent']\n",
    "kent_summary = Kent_df.describe()\n",
    "kent_summary = kent_summary.drop(columns=['Year', 'Zipcode'])\n",
    "kent_summary"
   ]
  },
  {
   "cell_type": "markdown",
   "id": "0e491bcc",
   "metadata": {},
   "source": [
    "# Income in Each County, by Zipcode **Jonathan**"
   ]
  },
  {
   "cell_type": "code",
   "execution_count": null,
   "id": "43496535",
   "metadata": {},
   "outputs": [],
   "source": [
    "# Create scatter plot(s) for Income in each county\n"
   ]
  },
  {
   "cell_type": "code",
   "execution_count": null,
   "id": "cb362be0",
   "metadata": {},
   "outputs": [],
   "source": [
    "# Calculate the linear regression and correlation for each county's plot\n"
   ]
  },
  {
   "cell_type": "code",
   "execution_count": null,
   "id": "88bf1e73",
   "metadata": {},
   "outputs": [],
   "source": [
    "# Add the linear regression line to the graph, if it makes sense (|r| > ?)\n"
   ]
  },
  {
   "cell_type": "code",
   "execution_count": null,
   "id": "0bbb2d99",
   "metadata": {},
   "outputs": [],
   "source": [
    "# Export final graph\n"
   ]
  },
  {
   "cell_type": "markdown",
   "id": "f1bf336c",
   "metadata": {},
   "source": [
    "# Home Values in Each County, by Zipcode **Tamica**"
   ]
  },
  {
   "cell_type": "code",
   "execution_count": null,
   "id": "4f724824",
   "metadata": {},
   "outputs": [],
   "source": [
    "# Create scatter plot(s) for Home Values in each county\n"
   ]
  },
  {
   "cell_type": "code",
   "execution_count": null,
   "id": "93a3f8eb",
   "metadata": {},
   "outputs": [],
   "source": [
    "# Calculate the linear regression and correlation for each county's plot\n"
   ]
  },
  {
   "cell_type": "code",
   "execution_count": null,
   "id": "93098227",
   "metadata": {},
   "outputs": [],
   "source": [
    "# Add the linear regression line to the graph, if it makes sense (|r| > ?)\n"
   ]
  },
  {
   "cell_type": "code",
   "execution_count": null,
   "id": "77dd2db2",
   "metadata": {},
   "outputs": [],
   "source": [
    "# Export final graph\n"
   ]
  },
  {
   "cell_type": "markdown",
   "id": "c56f58fc",
   "metadata": {},
   "source": [
    "# Rent Prices in Each County, by Zipcode **Stephanie**"
   ]
  },
  {
   "cell_type": "markdown",
   "id": "a00aa80a",
   "metadata": {},
   "source": [
    "# Saginaw County Median Rent vs Year by Zipcode"
   ]
  },
  {
   "cell_type": "code",
   "execution_count": null,
   "id": "456371e9",
   "metadata": {},
   "outputs": [],
   "source": [
    "Saginaw_df = census_df.loc[census_df['County'] == 'Saginaw']\n",
    "Saginaw_df = Saginaw_df.sort_values('Year', ascending=True)\n",
    "Saginaw_df.set_index('Year', inplace=True)\n",
    "Saginaw_df.groupby('Zipcode')['Adjusted Median Rent'].plot()\n",
    "plt.legend(loc=(1.01,0.01), ncol= 2)\n",
    "plt.xlabel('Year')\n",
    "plt.ylabel('Adjusted Median Rent')\n",
    "plt.title('Saginaw Median Rent by Zipcode (2011-2020)')\n",
    "plt.xlim(2011, 2020)\n",
    "plt.savefig(\"output_data/saginaw_rent_zipcodes\")"
   ]
  },
  {
   "cell_type": "code",
   "execution_count": null,
   "id": "1b1ea8bb",
   "metadata": {},
   "outputs": [],
   "source": [
    "# calculate and add linear regression to evaluate\n",
    "Saginaw = census_df.loc[census_df['County'] == 'Saginaw']\n",
    "Saginaw_df = Saginaw.sort_values('Year', ascending=True)\n",
    "Saginaw_df.set_index('Year', inplace=True)\n",
    "Saginaw_df.groupby('Zipcode')['Adjusted Median Rent'].plot()\n",
    "plt.legend(loc=(1.01,0.01), ncol= 2)\n",
    "plt.xlabel('Year')\n",
    "plt.ylabel('Adjusted Median Rent')\n",
    "plt.title('Saginaw Median Rent by Zipcode (2011-2020)')\n",
    "plt.xlim(2011, 2020)\n",
    "(slope, intercept, rvalue, pvalue, stderr) = linregress(Saginaw_df.index, Saginaw_df['Adjusted Median Rent'])\n",
    "regress_values = Saginaw_df.index * slope + intercept\n",
    "line_eq = 'y = ' + str(round(slope,2)) + 'x + ' + str(round(intercept,2))\n",
    "plt.plot(Saginaw_df.index, regress_values, 'r-')\n",
    "plt.annotate(line_eq, (2016, 400), fontsize= 12, color= 'red')\n",
    "print(f'The r-value is: {rvalue}')\n",
    "plt.savefig(\"output_data/saginaw_rent_zipcodes_with_regression\")"
   ]
  },
  {
   "cell_type": "markdown",
   "id": "58f54c1e",
   "metadata": {},
   "source": [
    "# Oakland County Median Rent vs Year by Zipcode"
   ]
  },
  {
   "cell_type": "code",
   "execution_count": null,
   "id": "d43e6e45",
   "metadata": {},
   "outputs": [],
   "source": [
    "Oakland_df = census_df.loc[census_df['County'] == 'Oakland']\n",
    "Oakland_df = Oakland_df.sort_values('Year', ascending=True)\n",
    "Oakland_df.set_index('Year', inplace=True)\n",
    "Oakland_df.groupby('Zipcode')['Adjusted Median Rent'].plot()\n",
    "plt.legend(loc=(1.01,0.01), ncol= 4)\n",
    "plt.xlabel('Year')\n",
    "plt.ylabel('Adjusted Median Rent')\n",
    "plt.title('Oakland Median Rent by Zipcode (2011-2020)')\n",
    "plt.xlim(2011,2020)\n",
    "plt.savefig(\"output_data/oakland_rent_zipcodes\")"
   ]
  },
  {
   "cell_type": "code",
   "execution_count": null,
   "id": "a033934a",
   "metadata": {},
   "outputs": [],
   "source": [
    "# calculate linear regression to evaluate\n",
    "Oakland_df = census_df.loc[census_df['County'] == 'Oakland']\n",
    "Oakland_df = Oakland_df.sort_values('Year', ascending=True)\n",
    "Oakland_df.set_index('Year', inplace=True)\n",
    "Oakland_df.groupby('Zipcode')['Adjusted Median Rent'].plot()\n",
    "plt.legend(loc=(1.01,0.01), ncol= 4)\n",
    "plt.xlabel('Year')\n",
    "plt.ylabel('Adjusted Median Rent')\n",
    "plt.title('Oakland Median Rent by Zipcode (2011-2020)')\n",
    "plt.xlim(2011,2020)\n",
    "(slope, intercept, rvalue, pvalue, stderr) = linregress(Oakland_df.index, Oakland_df['Adjusted Median Rent'])\n",
    "regress_values = Oakland_df.index * slope + intercept\n",
    "line_eq = 'y = ' + str(round(slope,2)) + 'x + ' + str(round(intercept,2))\n",
    "plt.plot(Oakland_df.index, regress_values, 'r-')\n",
    "plt.annotate(line_eq, (2011, 500), fontsize= 12, color= 'red')\n",
    "print(f'The r-value is: {rvalue}')\n",
    "plt.savefig(\"output_data/oakland_rent_zipcodes_with_regression\")"
   ]
  },
  {
   "cell_type": "markdown",
   "id": "6481c351",
   "metadata": {},
   "source": [
    "# Kent County Median Rent vs Year by Zipcode"
   ]
  },
  {
   "cell_type": "code",
   "execution_count": null,
   "id": "e168fdc0",
   "metadata": {},
   "outputs": [],
   "source": [
    "Kent_df = census_df.loc[census_df['County'] == 'Kent']\n",
    "Kent_df = Kent_df.sort_values('Year', ascending=True)\n",
    "Kent_df.set_index('Year', inplace=True)\n",
    "Kent_df.groupby('Zipcode')['Adjusted Median Rent'].plot()\n",
    "plt.legend(loc=(1.01,0.01), ncol= 2)\n",
    "plt.xlabel('Year')\n",
    "plt.ylabel('Adjusted Median Rent')\n",
    "plt.title('Kent Median Rent by Zipcode (2011-2020)')\n",
    "plt.xlim(2011,2020)\n",
    "plt.savefig(\"output_data/kent_rent_zipcodes\")"
   ]
  },
  {
   "cell_type": "code",
   "execution_count": null,
   "id": "0fbcb933",
   "metadata": {},
   "outputs": [],
   "source": [
    "# Calculate the linear regression and correlation for each county's plot\n",
    "Kent_df = census_df.loc[census_df['County'] == 'Kent']\n",
    "Kent_df = Kent_df.sort_values('Year', ascending=True)\n",
    "Kent_df.set_index('Year', inplace=True)\n",
    "Kent_df.groupby('Zipcode')['Adjusted Median Rent'].plot()\n",
    "plt.legend(loc=(1.01,0.01), ncol= 2)\n",
    "plt.xlabel('Year')\n",
    "plt.ylabel('Adjusted Median Rent')\n",
    "plt.title('Kent Median Rent by Zipcode (2011-2020)')\n",
    "plt.xlim(2011,2020)\n",
    "(slope, intercept, rvalue, pvalue, stderr) = linregress(Kent_df.index, Kent_df['Adjusted Median Rent'])\n",
    "regress_values = Kent_df.index * slope + intercept\n",
    "line_eq = 'y = ' + str(round(slope,2)) + 'x + ' + str(round(intercept,2))\n",
    "plt.plot(Kent_df.index, regress_values, 'r-')\n",
    "plt.annotate(line_eq, (2011, 500), fontsize= 12, color= 'red')\n",
    "print(f'The r-value is: {rvalue}')\n",
    "plt.savefig(\"output_data/kent_rent_zipcodes_with_regression\")"
   ]
  },
  {
   "cell_type": "code",
   "execution_count": null,
   "id": "03e2a676",
   "metadata": {},
   "outputs": [],
   "source": [
    "# Calculate and plot average rent for each county\n",
    "saginaw_county_mean_rent = Saginaw_df.groupby('Year')['Adjusted Median Rent'].mean()\n",
    "oakland_county_mean_rent = Oakland_df.groupby('Year')['Adjusted Median Rent'].mean()\n",
    "kent_county_mean_rent = Kent_df.groupby('Year')['Adjusted Median Rent'].mean()\n",
    "\n",
    "plt.plot(saginaw_county_mean_rent, label=\"Saginaw County\")\n",
    "plt.plot(oakland_county_mean_rent, label=\"Oakland County\")\n",
    "plt.plot(kent_county_mean_rent, label=\"Kent County\")\n",
    "plt.legend(loc=(1.01,0.01))\n",
    "plt.xlabel('Year')\n",
    "plt.ylabel('Adjusted Median Rent')\n",
    "plt.title('Average County Rent (2011-2020)')\n",
    "plt.xlim(2011,2020)\n",
    "\n",
    "saginaw_county_mean_rent = pd.DataFrame(saginaw_county_mean_rent).reset_index()\n",
    "oakland_county_mean_rent = pd.DataFrame(oakland_county_mean_rent).reset_index()\n",
    "kent_county_mean_rent = pd.DataFrame(kent_county_mean_rent).reset_index()\n",
    "\n",
    "county_mean_rent = pd.merge(saginaw_county_mean_rent, oakland_county_mean_rent, how='outer', on='Year')\n",
    "county_mean_rent = pd.merge(county_mean_rent, kent_county_mean_rent, how='outer', on='Year')\n",
    "county_mean_rent.rename(columns={'Adjusted Median Rent_x': 'Saginaw Average Rent', 'Adjusted Median Rent_y': 'Oakland Average Rent', 'Adjusted Median Rent': 'Kent Average Rent'})\n",
    "\n",
    "# Should this also have a line of regression? Or I guess, is it possible to add one?\n",
    "\n",
    "#(slope, intercept, rvalue, pvalue, stderr) = linregress(county_mean_rent['Year'], **y values**)\n",
    "#regress_values = county_mean_rent['Year'] * slope + intercept\n",
    "#line_eq = 'y = ' + str(round(slope,2)) + 'x + ' + str(round(intercept,2))\n",
    "#plt.plot(county_mean_rent['Year'], regress_values, 'r-')\n",
    "#plt.annotate(line_eq, (2011, 500), fontsize= 12, color= 'red')\n",
    "#print(f'The r-value is: {rvalue}')\n",
    "#plt.savefig(\"output_data/county_average_rent\")"
   ]
  },
  {
   "cell_type": "code",
   "execution_count": null,
   "id": "026958dd",
   "metadata": {},
   "outputs": [],
   "source": []
  },
  {
   "cell_type": "markdown",
   "id": "c219b4f0",
   "metadata": {},
   "source": [
    "# Demographic Composition in Each County, by Zipcode **Rhi**"
   ]
  },
  {
   "cell_type": "code",
   "execution_count": null,
   "id": "82269775",
   "metadata": {},
   "outputs": [],
   "source": [
    "# Create scatter plot(s) for total population in each county \n",
    "# also need to do graphs for demographic composition, employment rate, poverty rate\n",
    "# Need to create more filters by year and by zip code within counties\n"
   ]
  },
  {
   "cell_type": "code",
   "execution_count": null,
   "id": "284abd63",
   "metadata": {},
   "outputs": [],
   "source": [
    "# Calculate the linear regression and correlation for each county's plot\n"
   ]
  },
  {
   "cell_type": "code",
   "execution_count": null,
   "id": "10a03053",
   "metadata": {},
   "outputs": [],
   "source": [
    "# Add the linear regression line to the graph, if it makes sense (|r| > ?)\n"
   ]
  },
  {
   "cell_type": "code",
   "execution_count": null,
   "id": "2aacdbfd",
   "metadata": {},
   "outputs": [],
   "source": [
    "# Export final graph\n"
   ]
  },
  {
   "cell_type": "markdown",
   "id": "4316ce49",
   "metadata": {},
   "source": [
    "# Combination Visualizations"
   ]
  },
  {
   "cell_type": "markdown",
   "id": "0fe3b68a",
   "metadata": {},
   "source": [
    "# GIF Maps"
   ]
  },
  {
   "cell_type": "code",
   "execution_count": null,
   "id": "482e12e5",
   "metadata": {},
   "outputs": [],
   "source": [
    "# Relocate needed module and import it (install as well)"
   ]
  },
  {
   "cell_type": "code",
   "execution_count": null,
   "id": "b3ddb972",
   "metadata": {},
   "outputs": [],
   "source": [
    "# Determine what specific visualizations to convert to map GIFs"
   ]
  },
  {
   "cell_type": "code",
   "execution_count": null,
   "id": "04eed4f6",
   "metadata": {},
   "outputs": [],
   "source": [
    "# Create maps by county, showing individual points per zipcode (heat map)"
   ]
  },
  {
   "cell_type": "code",
   "execution_count": null,
   "id": "856459c8",
   "metadata": {},
   "outputs": [],
   "source": [
    "# Export maps?"
   ]
  }
 ],
 "metadata": {
  "kernelspec": {
   "display_name": "PythonData",
   "language": "python",
   "name": "pythondata"
  },
  "language_info": {
   "codemirror_mode": {
    "name": "ipython",
    "version": 3
   },
   "file_extension": ".py",
   "mimetype": "text/x-python",
   "name": "python",
   "nbconvert_exporter": "python",
   "pygments_lexer": "ipython3",
   "version": "3.7.7"
  }
 },
 "nbformat": 4,
 "nbformat_minor": 5
}
