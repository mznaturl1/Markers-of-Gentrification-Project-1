{
 "cells": [
  {
   "cell_type": "code",
   "execution_count": 1,
   "id": "76bbc9a9",
   "metadata": {},
   "outputs": [],
   "source": [
    "# Import dependencies\n",
    "import pandas as pd\n",
    "import matplotlib as plt"
   ]
  },
  {
   "cell_type": "code",
   "execution_count": 6,
   "id": "bc67c2b4",
   "metadata": {},
   "outputs": [
    {
     "data": {
      "text/html": [
       "<div>\n",
       "<style scoped>\n",
       "    .dataframe tbody tr th:only-of-type {\n",
       "        vertical-align: middle;\n",
       "    }\n",
       "\n",
       "    .dataframe tbody tr th {\n",
       "        vertical-align: top;\n",
       "    }\n",
       "\n",
       "    .dataframe thead th {\n",
       "        text-align: right;\n",
       "    }\n",
       "</style>\n",
       "<table border=\"1\" class=\"dataframe\">\n",
       "  <thead>\n",
       "    <tr style=\"text-align: right;\">\n",
       "      <th></th>\n",
       "      <th>Year</th>\n",
       "      <th>Zipcode</th>\n",
       "      <th>Total Population</th>\n",
       "      <th>White Population</th>\n",
       "      <th>Black Population</th>\n",
       "      <th>Employed Count</th>\n",
       "      <th>Unemployed Count</th>\n",
       "      <th>Poverty Count</th>\n",
       "      <th>Poverty Count - White</th>\n",
       "      <th>Poverty Count - Black</th>\n",
       "      <th>Median Income</th>\n",
       "      <th>Median Rent</th>\n",
       "      <th>Median Home Value</th>\n",
       "      <th>County</th>\n",
       "      <th>Adjusted Median Income</th>\n",
       "      <th>Adjusted Median Rent</th>\n",
       "      <th>Adjusted Median Home Value</th>\n",
       "    </tr>\n",
       "    <tr>\n",
       "      <th>datapoint</th>\n",
       "      <th></th>\n",
       "      <th></th>\n",
       "      <th></th>\n",
       "      <th></th>\n",
       "      <th></th>\n",
       "      <th></th>\n",
       "      <th></th>\n",
       "      <th></th>\n",
       "      <th></th>\n",
       "      <th></th>\n",
       "      <th></th>\n",
       "      <th></th>\n",
       "      <th></th>\n",
       "      <th></th>\n",
       "      <th></th>\n",
       "      <th></th>\n",
       "      <th></th>\n",
       "    </tr>\n",
       "  </thead>\n",
       "  <tbody>\n",
       "    <tr>\n",
       "      <th>0</th>\n",
       "      <td>2012</td>\n",
       "      <td>48009</td>\n",
       "      <td>20153</td>\n",
       "      <td>18622</td>\n",
       "      <td>663</td>\n",
       "      <td>10031.0</td>\n",
       "      <td>489.0</td>\n",
       "      <td>797.0</td>\n",
       "      <td>767.0</td>\n",
       "      <td>0.0</td>\n",
       "      <td>100789.0</td>\n",
       "      <td>993.0</td>\n",
       "      <td>339600.0</td>\n",
       "      <td>Oakland</td>\n",
       "      <td>128472.019282</td>\n",
       "      <td>1265.740459</td>\n",
       "      <td>432875.589083</td>\n",
       "    </tr>\n",
       "    <tr>\n",
       "      <th>1</th>\n",
       "      <td>2013</td>\n",
       "      <td>48009</td>\n",
       "      <td>20241</td>\n",
       "      <td>18620</td>\n",
       "      <td>765</td>\n",
       "      <td>10138.0</td>\n",
       "      <td>553.0</td>\n",
       "      <td>704.0</td>\n",
       "      <td>669.0</td>\n",
       "      <td>0.0</td>\n",
       "      <td>98750.0</td>\n",
       "      <td>1070.0</td>\n",
       "      <td>347400.0</td>\n",
       "      <td>Oakland</td>\n",
       "      <td>124055.861168</td>\n",
       "      <td>1344.200217</td>\n",
       "      <td>436425.378933</td>\n",
       "    </tr>\n",
       "    <tr>\n",
       "      <th>2</th>\n",
       "      <td>2015</td>\n",
       "      <td>48009</td>\n",
       "      <td>20489</td>\n",
       "      <td>18864</td>\n",
       "      <td>587</td>\n",
       "      <td>10669.0</td>\n",
       "      <td>407.0</td>\n",
       "      <td>827.0</td>\n",
       "      <td>730.0</td>\n",
       "      <td>37.0</td>\n",
       "      <td>108135.0</td>\n",
       "      <td>1121.0</td>\n",
       "      <td>410700.0</td>\n",
       "      <td>Oakland</td>\n",
       "      <td>133518.897062</td>\n",
       "      <td>1384.146517</td>\n",
       "      <td>507108.808651</td>\n",
       "    </tr>\n",
       "    <tr>\n",
       "      <th>3</th>\n",
       "      <td>2017</td>\n",
       "      <td>48009</td>\n",
       "      <td>20836</td>\n",
       "      <td>19063</td>\n",
       "      <td>580</td>\n",
       "      <td>10795.0</td>\n",
       "      <td>393.0</td>\n",
       "      <td>914.0</td>\n",
       "      <td>726.0</td>\n",
       "      <td>92.0</td>\n",
       "      <td>114537.0</td>\n",
       "      <td>1223.0</td>\n",
       "      <td>467700.0</td>\n",
       "      <td>Oakland</td>\n",
       "      <td>136748.636321</td>\n",
       "      <td>1460.170794</td>\n",
       "      <td>558398.920937</td>\n",
       "    </tr>\n",
       "    <tr>\n",
       "      <th>4</th>\n",
       "      <td>2020</td>\n",
       "      <td>48009</td>\n",
       "      <td>21277</td>\n",
       "      <td>19011</td>\n",
       "      <td>688</td>\n",
       "      <td>10729.0</td>\n",
       "      <td>362.0</td>\n",
       "      <td>1001.0</td>\n",
       "      <td>790.0</td>\n",
       "      <td>114.0</td>\n",
       "      <td>126646.0</td>\n",
       "      <td>1498.0</td>\n",
       "      <td>538500.0</td>\n",
       "      <td>Oakland</td>\n",
       "      <td>143207.147803</td>\n",
       "      <td>1693.889325</td>\n",
       "      <td>608918.158424</td>\n",
       "    </tr>\n",
       "    <tr>\n",
       "      <th>...</th>\n",
       "      <td>...</td>\n",
       "      <td>...</td>\n",
       "      <td>...</td>\n",
       "      <td>...</td>\n",
       "      <td>...</td>\n",
       "      <td>...</td>\n",
       "      <td>...</td>\n",
       "      <td>...</td>\n",
       "      <td>...</td>\n",
       "      <td>...</td>\n",
       "      <td>...</td>\n",
       "      <td>...</td>\n",
       "      <td>...</td>\n",
       "      <td>...</td>\n",
       "      <td>...</td>\n",
       "      <td>...</td>\n",
       "      <td>...</td>\n",
       "    </tr>\n",
       "    <tr>\n",
       "      <th>1245</th>\n",
       "      <td>2017</td>\n",
       "      <td>49548</td>\n",
       "      <td>32694</td>\n",
       "      <td>23495</td>\n",
       "      <td>3522</td>\n",
       "      <td>16310.0</td>\n",
       "      <td>963.0</td>\n",
       "      <td>6656.0</td>\n",
       "      <td>4210.0</td>\n",
       "      <td>932.0</td>\n",
       "      <td>45534.0</td>\n",
       "      <td>695.0</td>\n",
       "      <td>82200.0</td>\n",
       "      <td>Kent</td>\n",
       "      <td>54364.200269</td>\n",
       "      <td>829.778170</td>\n",
       "      <td>98140.669876</td>\n",
       "    </tr>\n",
       "    <tr>\n",
       "      <th>1246</th>\n",
       "      <td>2012</td>\n",
       "      <td>49548</td>\n",
       "      <td>30155</td>\n",
       "      <td>23134</td>\n",
       "      <td>3109</td>\n",
       "      <td>13743.0</td>\n",
       "      <td>1895.0</td>\n",
       "      <td>6416.0</td>\n",
       "      <td>4296.0</td>\n",
       "      <td>1162.0</td>\n",
       "      <td>39926.0</td>\n",
       "      <td>622.0</td>\n",
       "      <td>89700.0</td>\n",
       "      <td>Kent</td>\n",
       "      <td>50892.198969</td>\n",
       "      <td>792.840449</td>\n",
       "      <td>114337.280155</td>\n",
       "    </tr>\n",
       "    <tr>\n",
       "      <th>1247</th>\n",
       "      <td>2015</td>\n",
       "      <td>49548</td>\n",
       "      <td>30234</td>\n",
       "      <td>22081</td>\n",
       "      <td>3032</td>\n",
       "      <td>14715.0</td>\n",
       "      <td>1308.0</td>\n",
       "      <td>6056.0</td>\n",
       "      <td>3203.0</td>\n",
       "      <td>996.0</td>\n",
       "      <td>40895.0</td>\n",
       "      <td>648.0</td>\n",
       "      <td>78800.0</td>\n",
       "      <td>Kent</td>\n",
       "      <td>50494.800900</td>\n",
       "      <td>800.113241</td>\n",
       "      <td>97297.721261</td>\n",
       "    </tr>\n",
       "    <tr>\n",
       "      <th>1248</th>\n",
       "      <td>2020</td>\n",
       "      <td>49548</td>\n",
       "      <td>33608</td>\n",
       "      <td>23289</td>\n",
       "      <td>3177</td>\n",
       "      <td>17354.0</td>\n",
       "      <td>722.0</td>\n",
       "      <td>5203.0</td>\n",
       "      <td>3357.0</td>\n",
       "      <td>749.0</td>\n",
       "      <td>50763.0</td>\n",
       "      <td>768.0</td>\n",
       "      <td>106800.0</td>\n",
       "      <td>Kent</td>\n",
       "      <td>57401.137374</td>\n",
       "      <td>868.429240</td>\n",
       "      <td>120765.941169</td>\n",
       "    </tr>\n",
       "    <tr>\n",
       "      <th>1249</th>\n",
       "      <td>2016</td>\n",
       "      <td>49548</td>\n",
       "      <td>31938</td>\n",
       "      <td>23352</td>\n",
       "      <td>3422</td>\n",
       "      <td>15880.0</td>\n",
       "      <td>1157.0</td>\n",
       "      <td>6463.0</td>\n",
       "      <td>3915.0</td>\n",
       "      <td>896.0</td>\n",
       "      <td>43343.0</td>\n",
       "      <td>664.0</td>\n",
       "      <td>80200.0</td>\n",
       "      <td>Kent</td>\n",
       "      <td>52850.732124</td>\n",
       "      <td>809.655218</td>\n",
       "      <td>97792.693546</td>\n",
       "    </tr>\n",
       "  </tbody>\n",
       "</table>\n",
       "<p>1220 rows × 17 columns</p>\n",
       "</div>"
      ],
      "text/plain": [
       "           Year  Zipcode  Total Population  White Population  \\\n",
       "datapoint                                                      \n",
       "0          2012    48009             20153             18622   \n",
       "1          2013    48009             20241             18620   \n",
       "2          2015    48009             20489             18864   \n",
       "3          2017    48009             20836             19063   \n",
       "4          2020    48009             21277             19011   \n",
       "...         ...      ...               ...               ...   \n",
       "1245       2017    49548             32694             23495   \n",
       "1246       2012    49548             30155             23134   \n",
       "1247       2015    49548             30234             22081   \n",
       "1248       2020    49548             33608             23289   \n",
       "1249       2016    49548             31938             23352   \n",
       "\n",
       "           Black Population  Employed Count  Unemployed Count  Poverty Count  \\\n",
       "datapoint                                                                      \n",
       "0                       663         10031.0             489.0          797.0   \n",
       "1                       765         10138.0             553.0          704.0   \n",
       "2                       587         10669.0             407.0          827.0   \n",
       "3                       580         10795.0             393.0          914.0   \n",
       "4                       688         10729.0             362.0         1001.0   \n",
       "...                     ...             ...               ...            ...   \n",
       "1245                   3522         16310.0             963.0         6656.0   \n",
       "1246                   3109         13743.0            1895.0         6416.0   \n",
       "1247                   3032         14715.0            1308.0         6056.0   \n",
       "1248                   3177         17354.0             722.0         5203.0   \n",
       "1249                   3422         15880.0            1157.0         6463.0   \n",
       "\n",
       "           Poverty Count - White  Poverty Count - Black  Median Income  \\\n",
       "datapoint                                                                \n",
       "0                          767.0                    0.0       100789.0   \n",
       "1                          669.0                    0.0        98750.0   \n",
       "2                          730.0                   37.0       108135.0   \n",
       "3                          726.0                   92.0       114537.0   \n",
       "4                          790.0                  114.0       126646.0   \n",
       "...                          ...                    ...            ...   \n",
       "1245                      4210.0                  932.0        45534.0   \n",
       "1246                      4296.0                 1162.0        39926.0   \n",
       "1247                      3203.0                  996.0        40895.0   \n",
       "1248                      3357.0                  749.0        50763.0   \n",
       "1249                      3915.0                  896.0        43343.0   \n",
       "\n",
       "           Median Rent  Median Home Value   County  Adjusted Median Income  \\\n",
       "datapoint                                                                    \n",
       "0                993.0           339600.0  Oakland           128472.019282   \n",
       "1               1070.0           347400.0  Oakland           124055.861168   \n",
       "2               1121.0           410700.0  Oakland           133518.897062   \n",
       "3               1223.0           467700.0  Oakland           136748.636321   \n",
       "4               1498.0           538500.0  Oakland           143207.147803   \n",
       "...                ...                ...      ...                     ...   \n",
       "1245             695.0            82200.0     Kent            54364.200269   \n",
       "1246             622.0            89700.0     Kent            50892.198969   \n",
       "1247             648.0            78800.0     Kent            50494.800900   \n",
       "1248             768.0           106800.0     Kent            57401.137374   \n",
       "1249             664.0            80200.0     Kent            52850.732124   \n",
       "\n",
       "           Adjusted Median Rent  Adjusted Median Home Value  \n",
       "datapoint                                                    \n",
       "0                   1265.740459               432875.589083  \n",
       "1                   1344.200217               436425.378933  \n",
       "2                   1384.146517               507108.808651  \n",
       "3                   1460.170794               558398.920937  \n",
       "4                   1693.889325               608918.158424  \n",
       "...                         ...                         ...  \n",
       "1245                 829.778170                98140.669876  \n",
       "1246                 792.840449               114337.280155  \n",
       "1247                 800.113241                97297.721261  \n",
       "1248                 868.429240               120765.941169  \n",
       "1249                 809.655218                97792.693546  \n",
       "\n",
       "[1220 rows x 17 columns]"
      ]
     },
     "execution_count": 6,
     "metadata": {},
     "output_type": "execute_result"
    }
   ],
   "source": [
    "# Read CSV\n",
    "csvpath = \"output_data/census.csv\"\n",
    "census_df = pd.read_csv(csvpath,index_col=\"datapoint\")\n",
    "census_df"
   ]
  },
  {
   "cell_type": "code",
   "execution_count": null,
   "id": "cfbac4ef",
   "metadata": {},
   "outputs": [],
   "source": [
    "# Create column in DF for ratios of White/Black population and poverty counts AND employed / unemployed\n",
    "# for i in census_df.index:\n",
    "#     census_df.at[i,\"% Black Population\"]"
   ]
  },
  {
   "cell_type": "code",
   "execution_count": null,
   "id": "0ab26c2c",
   "metadata": {},
   "outputs": [],
   "source": [
    "# Create summary statistics table with stats for each county (mean / median of each column)"
   ]
  },
  {
   "cell_type": "markdown",
   "id": "e98eecda",
   "metadata": {},
   "source": [
    "# Income in Each County, by Zipcode **Jonathan**"
   ]
  },
  {
   "cell_type": "code",
   "execution_count": null,
   "id": "6304d24c",
   "metadata": {},
   "outputs": [],
   "source": [
    "# Create scatter plot(s) for Income in each county\n"
   ]
  },
  {
   "cell_type": "code",
   "execution_count": null,
   "id": "7eb44613",
   "metadata": {},
   "outputs": [],
   "source": [
    "# Calculate the linear regression and correlation for each county's plot\n"
   ]
  },
  {
   "cell_type": "code",
   "execution_count": null,
   "id": "37f64cb7",
   "metadata": {},
   "outputs": [],
   "source": [
    "# Add the linear regression line to the graph, if it makes sense (|r| > ?)\n"
   ]
  },
  {
   "cell_type": "code",
   "execution_count": null,
   "id": "449d69da",
   "metadata": {},
   "outputs": [],
   "source": [
    "# Export final graph\n"
   ]
  },
  {
   "cell_type": "markdown",
   "id": "85ef8899",
   "metadata": {},
   "source": [
    "# Home Values in Each County, by Zipcode **Tamica**"
   ]
  },
  {
   "cell_type": "code",
   "execution_count": null,
   "id": "01cf1225",
   "metadata": {},
   "outputs": [],
   "source": [
    "# Create scatter plot(s) for Home Values in each county\n"
   ]
  },
  {
   "cell_type": "code",
   "execution_count": null,
   "id": "de1caeb5",
   "metadata": {},
   "outputs": [],
   "source": [
    "# Calculate the linear regression and correlation for each county's plot\n"
   ]
  },
  {
   "cell_type": "code",
   "execution_count": null,
   "id": "4955e8f2",
   "metadata": {},
   "outputs": [],
   "source": [
    "# Add the linear regression line to the graph, if it makes sense (|r| > ?)\n"
   ]
  },
  {
   "cell_type": "code",
   "execution_count": null,
   "id": "820ec438",
   "metadata": {},
   "outputs": [],
   "source": [
    "# Export final graph\n"
   ]
  },
  {
   "cell_type": "markdown",
   "id": "f62107c5",
   "metadata": {},
   "source": [
    "# Rent Prices in Each County, by Zipcode **Stephanie**"
   ]
  },
  {
   "cell_type": "code",
   "execution_count": null,
   "id": "7972a63e",
   "metadata": {},
   "outputs": [],
   "source": [
    "# Create scatter plot(s) for Rent Prices in each county\n"
   ]
  },
  {
   "cell_type": "code",
   "execution_count": null,
   "id": "9f17a8b8",
   "metadata": {},
   "outputs": [],
   "source": [
    "# Calculate the linear regression and correlation for each county's plot\n"
   ]
  },
  {
   "cell_type": "code",
   "execution_count": null,
   "id": "53b07ca1",
   "metadata": {},
   "outputs": [],
   "source": [
    "# Add the linear regression line to the graph, if it makes sense (|r| > ?)\n"
   ]
  },
  {
   "cell_type": "code",
   "execution_count": null,
   "id": "77133ffb",
   "metadata": {},
   "outputs": [],
   "source": [
    "# Export final graph\n"
   ]
  },
  {
   "cell_type": "markdown",
   "id": "ab36fc3e",
   "metadata": {},
   "source": [
    "# Demographic Composition in Each County, by Zipcode **Rhi**"
   ]
  },
  {
   "cell_type": "code",
   "execution_count": null,
   "id": "d77ceafd",
   "metadata": {},
   "outputs": [],
   "source": [
    "# Create scatter plot(s) for total population in each county \n",
    "# also need to do graphs for demographic composition, employment rate, poverty rate\n",
    "# Need to create more filters by year and by zip code within counties\n"
   ]
  },
  {
   "cell_type": "code",
   "execution_count": null,
   "id": "943888dc",
   "metadata": {},
   "outputs": [],
   "source": [
    "# Calculate the linear regression and correlation for each county's plot\n"
   ]
  },
  {
   "cell_type": "code",
   "execution_count": null,
   "id": "830189ee",
   "metadata": {},
   "outputs": [],
   "source": [
    "# Add the linear regression line to the graph, if it makes sense (|r| > ?)\n"
   ]
  },
  {
   "cell_type": "code",
   "execution_count": null,
   "id": "b677241d",
   "metadata": {},
   "outputs": [],
   "source": [
    "# Export final graph\n"
   ]
  },
  {
   "cell_type": "markdown",
   "id": "276644b1",
   "metadata": {},
   "source": [
    "# Combination Visualizations"
   ]
  },
  {
   "cell_type": "markdown",
   "id": "9a117354",
   "metadata": {},
   "source": [
    "# GIF Maps"
   ]
  },
  {
   "cell_type": "code",
   "execution_count": null,
   "id": "518c7441",
   "metadata": {},
   "outputs": [],
   "source": [
    "# Relocate needed module and import it (install as well)"
   ]
  },
  {
   "cell_type": "code",
   "execution_count": null,
   "id": "d1932567",
   "metadata": {},
   "outputs": [],
   "source": [
    "# Determine what specific visualizations to convert to map GIFs"
   ]
  },
  {
   "cell_type": "code",
   "execution_count": null,
   "id": "a0bbf568",
   "metadata": {},
   "outputs": [],
   "source": [
    "# Create maps by county, showing individual points per zipcode (heat map)"
   ]
  },
  {
   "cell_type": "code",
   "execution_count": null,
   "id": "be34489d",
   "metadata": {},
   "outputs": [],
   "source": [
    "# Export maps?"
   ]
  }
 ],
 "metadata": {
  "kernelspec": {
   "display_name": "PythonData2",
   "language": "python",
   "name": "pythondata2"
  },
  "language_info": {
   "codemirror_mode": {
    "name": "ipython",
    "version": 3
   },
   "file_extension": ".py",
   "mimetype": "text/x-python",
   "name": "python",
   "nbconvert_exporter": "python",
   "pygments_lexer": "ipython3",
   "version": "3.7.7"
  }
 },
 "nbformat": 4,
 "nbformat_minor": 5
}
